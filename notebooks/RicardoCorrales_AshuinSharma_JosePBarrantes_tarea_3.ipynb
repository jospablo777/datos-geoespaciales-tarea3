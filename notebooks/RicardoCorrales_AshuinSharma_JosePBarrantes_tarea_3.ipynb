{
 "cells": [
  {
   "cell_type": "markdown",
   "id": "3068cee1-2b50-47a8-bd15-2d0f54d7ceaa",
   "metadata": {},
   "source": [
    "# Tarea 03 - Análisis de datos geoespaciales mediante pandas, plotly, geopandas y folium\n",
    "Ashuin Sharma - <br>\n",
    "Ricardo Corrales Barquero - B32090 <br>\n",
    "José P. Barrantes - B0043"
   ]
  },
  {
   "cell_type": "markdown",
   "id": "76ed285a-a7db-4e8b-abb7-bd669239a9bc",
   "metadata": {},
   "source": [
    "## Librerías"
   ]
  },
  {
   "cell_type": "code",
   "execution_count": 6,
   "id": "f6ff9e3c-9214-4823-8fe9-5f7946728b92",
   "metadata": {},
   "outputs": [
    {
     "name": "stdout",
     "output_type": "stream",
     "text": [
      "Collecting geopandas==0.10.2\n",
      "  Downloading geopandas-0.10.2-py2.py3-none-any.whl (1.0 MB)\n",
      "Requirement already satisfied: shapely>=1.6 in c:\\users\\ricor\\anaconda3\\lib\\site-packages (from geopandas==0.10.2) (1.8.0)\n",
      "Requirement already satisfied: pyproj>=2.2.0 in c:\\users\\ricor\\anaconda3\\lib\\site-packages (from geopandas==0.10.2) (3.3.0)\n",
      "Requirement already satisfied: pandas>=0.25.0 in c:\\users\\ricor\\anaconda3\\lib\\site-packages (from geopandas==0.10.2) (1.4.1)\n",
      "Requirement already satisfied: fiona>=1.8 in c:\\users\\ricor\\anaconda3\\lib\\site-packages (from geopandas==0.10.2) (1.8.20)\n",
      "Requirement already satisfied: attrs>=17 in c:\\users\\ricor\\anaconda3\\lib\\site-packages (from fiona>=1.8->geopandas==0.10.2) (21.4.0)\n",
      "Requirement already satisfied: certifi in c:\\users\\ricor\\anaconda3\\lib\\site-packages (from fiona>=1.8->geopandas==0.10.2) (2021.10.8)\n",
      "Requirement already satisfied: click>=4.0 in c:\\users\\ricor\\anaconda3\\lib\\site-packages (from fiona>=1.8->geopandas==0.10.2) (8.0.3)\n",
      "Requirement already satisfied: cligj>=0.5 in c:\\users\\ricor\\anaconda3\\lib\\site-packages (from fiona>=1.8->geopandas==0.10.2) (0.7.2)\n",
      "Requirement already satisfied: click-plugins>=1.0 in c:\\users\\ricor\\anaconda3\\lib\\site-packages (from fiona>=1.8->geopandas==0.10.2) (1.1.1)\n",
      "Requirement already satisfied: six>=1.7 in c:\\users\\ricor\\anaconda3\\lib\\site-packages (from fiona>=1.8->geopandas==0.10.2) (1.16.0)\n",
      "Requirement already satisfied: munch in c:\\users\\ricor\\anaconda3\\lib\\site-packages (from fiona>=1.8->geopandas==0.10.2) (2.5.0)\n",
      "Requirement already satisfied: setuptools in c:\\users\\ricor\\anaconda3\\lib\\site-packages (from fiona>=1.8->geopandas==0.10.2) (58.0.4)\n",
      "Requirement already satisfied: colorama in c:\\users\\ricor\\anaconda3\\lib\\site-packages (from click>=4.0->fiona>=1.8->geopandas==0.10.2) (0.4.4)\n",
      "Requirement already satisfied: numpy>=1.18.5 in c:\\users\\ricor\\anaconda3\\lib\\site-packages (from pandas>=0.25.0->geopandas==0.10.2) (1.21.5)\n",
      "Requirement already satisfied: python-dateutil>=2.8.1 in c:\\users\\ricor\\anaconda3\\lib\\site-packages (from pandas>=0.25.0->geopandas==0.10.2) (2.8.2)\n",
      "Requirement already satisfied: pytz>=2020.1 in c:\\users\\ricor\\anaconda3\\lib\\site-packages (from pandas>=0.25.0->geopandas==0.10.2) (2021.3)\n",
      "Installing collected packages: geopandas\n",
      "  Attempting uninstall: geopandas\n",
      "    Found existing installation: geopandas 0.9.0\n",
      "    Uninstalling geopandas-0.9.0:\n",
      "      Successfully uninstalled geopandas-0.9.0\n",
      "Successfully installed geopandas-0.10.2\n",
      "Note: you may need to restart the kernel to use updated packages.\n"
     ]
    }
   ],
   "source": [
    "# OJO: es importante tener la última versión de geopandas, esta es la única forma que he encontrado de instalarla (Ricardo).\n",
    "\n",
    "pip install geopandas==0.10.2"
   ]
  },
  {
   "cell_type": "code",
   "execution_count": 50,
   "id": "05781b61-77cd-40a1-9a88-b8509c514cfe",
   "metadata": {},
   "outputs": [],
   "source": [
    "from owslib.wfs import WebFeatureService # lectura de los WFS\n",
    "import geopandas as gpd                  # dataframes con extensiones geoesaciales\n",
    "import requests                          # herramienta para solicitudes HTTP\n",
    "from geojson import dump                 # exportación de .geojson\n",
    "import pandas as pd                      # uso de dataframes\n",
    "import plotly.express as px              # graficación interactiva\n",
    "import folium                            # mapas"
   ]
  },
  {
   "cell_type": "code",
   "execution_count": 2,
   "id": "95a4e6a5-2c3e-466f-a7da-6ef88e5f321d",
   "metadata": {},
   "outputs": [
    {
     "data": {
      "text/plain": [
       "'0.10.2'"
      ]
     },
     "execution_count": 2,
     "metadata": {},
     "output_type": "execute_result"
    }
   ],
   "source": [
    "gpd.__version__"
   ]
  },
  {
   "cell_type": "markdown",
   "id": "9a0dfb5c-fd54-44f5-9397-68285b68fba0",
   "metadata": {},
   "source": [
    "## Obtención de datos"
   ]
  },
  {
   "cell_type": "code",
   "execution_count": 3,
   "id": "04e3048a-718c-4b90-ad7e-705e54eafafe",
   "metadata": {},
   "outputs": [
    {
     "data": {
      "text/html": [
       "<div>\n",
       "<style scoped>\n",
       "    .dataframe tbody tr th:only-of-type {\n",
       "        vertical-align: middle;\n",
       "    }\n",
       "\n",
       "    .dataframe tbody tr th {\n",
       "        vertical-align: top;\n",
       "    }\n",
       "\n",
       "    .dataframe thead th {\n",
       "        text-align: right;\n",
       "    }\n",
       "</style>\n",
       "<table border=\"1\" class=\"dataframe\">\n",
       "  <thead>\n",
       "    <tr style=\"text-align: right;\">\n",
       "      <th></th>\n",
       "      <th>id</th>\n",
       "      <th>gmlid</th>\n",
       "      <th>cod_catalo</th>\n",
       "      <th>cod_canton</th>\n",
       "      <th>canton</th>\n",
       "      <th>ori_toponi</th>\n",
       "      <th>area</th>\n",
       "      <th>cod_provin</th>\n",
       "      <th>provincia</th>\n",
       "      <th>version</th>\n",
       "      <th>geometry</th>\n",
       "    </tr>\n",
       "  </thead>\n",
       "  <tbody>\n",
       "    <tr>\n",
       "      <th>0</th>\n",
       "      <td>limitecantonal_5k.1</td>\n",
       "      <td>limitecantonal_5k.1</td>\n",
       "      <td>160104</td>\n",
       "      <td>610</td>\n",
       "      <td>Corredores</td>\n",
       "      <td>Tiene su origen en el topónimo del río Corredo...</td>\n",
       "      <td>623.61</td>\n",
       "      <td>6</td>\n",
       "      <td>Puntarenas</td>\n",
       "      <td>20201222</td>\n",
       "      <td>POLYGON ((-82.94161 8.42039, -82.94163 8.42039...</td>\n",
       "    </tr>\n",
       "    <tr>\n",
       "      <th>1</th>\n",
       "      <td>limitecantonal_5k.2</td>\n",
       "      <td>limitecantonal_5k.2</td>\n",
       "      <td>160104</td>\n",
       "      <td>607</td>\n",
       "      <td>Golfito</td>\n",
       "      <td>Se debe  a la forma que presenta el litoral, d...</td>\n",
       "      <td>1752.75</td>\n",
       "      <td>6</td>\n",
       "      <td>Puntarenas</td>\n",
       "      <td>20201222</td>\n",
       "      <td>MULTIPOLYGON (((-83.46678 8.68886, -83.46677 8...</td>\n",
       "    </tr>\n",
       "    <tr>\n",
       "      <th>2</th>\n",
       "      <td>limitecantonal_5k.3</td>\n",
       "      <td>limitecantonal_5k.3</td>\n",
       "      <td>160104</td>\n",
       "      <td>608</td>\n",
       "      <td>Coto Brus</td>\n",
       "      <td>De origen indígena las palabras Coto (couto) B...</td>\n",
       "      <td>944.24</td>\n",
       "      <td>6</td>\n",
       "      <td>Puntarenas</td>\n",
       "      <td>20201222</td>\n",
       "      <td>POLYGON ((-82.90501 8.77425, -82.90572 8.77456...</td>\n",
       "    </tr>\n",
       "    <tr>\n",
       "      <th>3</th>\n",
       "      <td>limitecantonal_5k.4</td>\n",
       "      <td>limitecantonal_5k.4</td>\n",
       "      <td>160104</td>\n",
       "      <td>605</td>\n",
       "      <td>Osa</td>\n",
       "      <td>En recuerdo del cacique Osa, que en los inicio...</td>\n",
       "      <td>1932.70</td>\n",
       "      <td>6</td>\n",
       "      <td>Puntarenas</td>\n",
       "      <td>20201222</td>\n",
       "      <td>POLYGON ((-83.83946 9.25534, -83.83900 9.25533...</td>\n",
       "    </tr>\n",
       "    <tr>\n",
       "      <th>4</th>\n",
       "      <td>limitecantonal_5k.5</td>\n",
       "      <td>limitecantonal_5k.5</td>\n",
       "      <td>160104</td>\n",
       "      <td>603</td>\n",
       "      <td>Buenos Aires</td>\n",
       "      <td>El nombre se le dio por la brisa constante que...</td>\n",
       "      <td>2382.94</td>\n",
       "      <td>6</td>\n",
       "      <td>Puntarenas</td>\n",
       "      <td>20201222</td>\n",
       "      <td>POLYGON ((-83.32101 9.38409, -83.32072 9.38405...</td>\n",
       "    </tr>\n",
       "    <tr>\n",
       "      <th>...</th>\n",
       "      <td>...</td>\n",
       "      <td>...</td>\n",
       "      <td>...</td>\n",
       "      <td>...</td>\n",
       "      <td>...</td>\n",
       "      <td>...</td>\n",
       "      <td>...</td>\n",
       "      <td>...</td>\n",
       "      <td>...</td>\n",
       "      <td>...</td>\n",
       "      <td>...</td>\n",
       "    </tr>\n",
       "    <tr>\n",
       "      <th>77</th>\n",
       "      <td>limitecantonal_5k.78</td>\n",
       "      <td>limitecantonal_5k.78</td>\n",
       "      <td>160104</td>\n",
       "      <td>215</td>\n",
       "      <td>Guatuso</td>\n",
       "      <td>Dos versiones: 1- Los indigenas vivían cerca d...</td>\n",
       "      <td>752.83</td>\n",
       "      <td>2</td>\n",
       "      <td>Alajuela</td>\n",
       "      <td>20201222</td>\n",
       "      <td>POLYGON ((-84.80404 10.85084, -84.80379 10.850...</td>\n",
       "    </tr>\n",
       "    <tr>\n",
       "      <th>78</th>\n",
       "      <td>limitecantonal_5k.79</td>\n",
       "      <td>limitecantonal_5k.79</td>\n",
       "      <td>160104</td>\n",
       "      <td>214</td>\n",
       "      <td>Los Chiles</td>\n",
       "      <td>Dos versiones: 1-Por una gran plantación de ch...</td>\n",
       "      <td>1332.71</td>\n",
       "      <td>2</td>\n",
       "      <td>Alajuela</td>\n",
       "      <td>20201222</td>\n",
       "      <td>POLYGON ((-84.66639 11.07246, -84.60604 11.038...</td>\n",
       "    </tr>\n",
       "    <tr>\n",
       "      <th>79</th>\n",
       "      <td>limitecantonal_5k.80</td>\n",
       "      <td>limitecantonal_5k.80</td>\n",
       "      <td>160104</td>\n",
       "      <td>501</td>\n",
       "      <td>Liberia</td>\n",
       "      <td>El origen del nombre del cantón se remonta a 1...</td>\n",
       "      <td>1442.17</td>\n",
       "      <td>5</td>\n",
       "      <td>Guanacaste</td>\n",
       "      <td>20201222</td>\n",
       "      <td>POLYGON ((-85.47140 10.96502, -85.47129 10.965...</td>\n",
       "    </tr>\n",
       "    <tr>\n",
       "      <th>80</th>\n",
       "      <td>limitecantonal_5k.81</td>\n",
       "      <td>limitecantonal_5k.81</td>\n",
       "      <td>160104</td>\n",
       "      <td>213</td>\n",
       "      <td>Upala</td>\n",
       "      <td>Voz indígena del náhualt que significa: sobre ...</td>\n",
       "      <td>1592.67</td>\n",
       "      <td>2</td>\n",
       "      <td>Alajuela</td>\n",
       "      <td>20201222</td>\n",
       "      <td>POLYGON ((-85.24049 11.06368, -85.23930 11.063...</td>\n",
       "    </tr>\n",
       "    <tr>\n",
       "      <th>81</th>\n",
       "      <td>limitecantonal_5k.82</td>\n",
       "      <td>limitecantonal_5k.82</td>\n",
       "      <td>160104</td>\n",
       "      <td>510</td>\n",
       "      <td>La Cruz</td>\n",
       "      <td>Se remonta a una cruz de palos colocada a un a...</td>\n",
       "      <td>1385.38</td>\n",
       "      <td>5</td>\n",
       "      <td>Guanacaste</td>\n",
       "      <td>20201222</td>\n",
       "      <td>POLYGON ((-85.35750 11.12625, -85.22911 11.063...</td>\n",
       "    </tr>\n",
       "  </tbody>\n",
       "</table>\n",
       "<p>82 rows × 11 columns</p>\n",
       "</div>"
      ],
      "text/plain": [
       "                      id                 gmlid cod_catalo  cod_canton  \\\n",
       "0    limitecantonal_5k.1   limitecantonal_5k.1     160104         610   \n",
       "1    limitecantonal_5k.2   limitecantonal_5k.2     160104         607   \n",
       "2    limitecantonal_5k.3   limitecantonal_5k.3     160104         608   \n",
       "3    limitecantonal_5k.4   limitecantonal_5k.4     160104         605   \n",
       "4    limitecantonal_5k.5   limitecantonal_5k.5     160104         603   \n",
       "..                   ...                   ...        ...         ...   \n",
       "77  limitecantonal_5k.78  limitecantonal_5k.78     160104         215   \n",
       "78  limitecantonal_5k.79  limitecantonal_5k.79     160104         214   \n",
       "79  limitecantonal_5k.80  limitecantonal_5k.80     160104         501   \n",
       "80  limitecantonal_5k.81  limitecantonal_5k.81     160104         213   \n",
       "81  limitecantonal_5k.82  limitecantonal_5k.82     160104         510   \n",
       "\n",
       "          canton                                         ori_toponi     area  \\\n",
       "0     Corredores  Tiene su origen en el topónimo del río Corredo...   623.61   \n",
       "1        Golfito  Se debe  a la forma que presenta el litoral, d...  1752.75   \n",
       "2      Coto Brus  De origen indígena las palabras Coto (couto) B...   944.24   \n",
       "3            Osa  En recuerdo del cacique Osa, que en los inicio...  1932.70   \n",
       "4   Buenos Aires  El nombre se le dio por la brisa constante que...  2382.94   \n",
       "..           ...                                                ...      ...   \n",
       "77       Guatuso  Dos versiones: 1- Los indigenas vivían cerca d...   752.83   \n",
       "78    Los Chiles  Dos versiones: 1-Por una gran plantación de ch...  1332.71   \n",
       "79       Liberia  El origen del nombre del cantón se remonta a 1...  1442.17   \n",
       "80         Upala  Voz indígena del náhualt que significa: sobre ...  1592.67   \n",
       "81       La Cruz  Se remonta a una cruz de palos colocada a un a...  1385.38   \n",
       "\n",
       "    cod_provin   provincia   version  \\\n",
       "0            6  Puntarenas  20201222   \n",
       "1            6  Puntarenas  20201222   \n",
       "2            6  Puntarenas  20201222   \n",
       "3            6  Puntarenas  20201222   \n",
       "4            6  Puntarenas  20201222   \n",
       "..         ...         ...       ...   \n",
       "77           2    Alajuela  20201222   \n",
       "78           2    Alajuela  20201222   \n",
       "79           5  Guanacaste  20201222   \n",
       "80           2    Alajuela  20201222   \n",
       "81           5  Guanacaste  20201222   \n",
       "\n",
       "                                             geometry  \n",
       "0   POLYGON ((-82.94161 8.42039, -82.94163 8.42039...  \n",
       "1   MULTIPOLYGON (((-83.46678 8.68886, -83.46677 8...  \n",
       "2   POLYGON ((-82.90501 8.77425, -82.90572 8.77456...  \n",
       "3   POLYGON ((-83.83946 9.25534, -83.83900 9.25533...  \n",
       "4   POLYGON ((-83.32101 9.38409, -83.32072 9.38405...  \n",
       "..                                                ...  \n",
       "77  POLYGON ((-84.80404 10.85084, -84.80379 10.850...  \n",
       "78  POLYGON ((-84.66639 11.07246, -84.60604 11.038...  \n",
       "79  POLYGON ((-85.47140 10.96502, -85.47129 10.965...  \n",
       "80  POLYGON ((-85.24049 11.06368, -85.23930 11.063...  \n",
       "81  POLYGON ((-85.35750 11.12625, -85.22911 11.063...  \n",
       "\n",
       "[82 rows x 11 columns]"
      ]
     },
     "execution_count": 3,
     "metadata": {},
     "output_type": "execute_result"
    }
   ],
   "source": [
    "# Parámetros de la solicitud\n",
    "params = dict(service='WFS',\n",
    "              version='1.1.0', \n",
    "              request='GetFeature', \n",
    "              typeName='IGN_5:limitecantonal_5k',   # la de interés\n",
    "              srsName='urn:ogc:def:crs:EPSG::4326',\n",
    "              outputFormat='json')\n",
    "\n",
    "# Solicitud\n",
    "response_cantones = requests.get(\"https://geos.snitcr.go.cr/be/IGN_5/wfs?\", params=params)\n",
    "\n",
    "# Descarga de la respuesta en un archivo GeoJSON\n",
    "\n",
    "with open('../datos/limite_cantonal.geojson', 'w') as file:\n",
    "    dump(response_cantones.json(), file)\n",
    "\n",
    "# Lectura como geodataframe\n",
    "data_cantones = gpd.read_file('../datos/limite_cantonal.geojson')\n",
    "\n",
    "# Despliegue de la tabla\n",
    "data_cantones"
   ]
  },
  {
   "cell_type": "code",
   "execution_count": 4,
   "id": "5e6e1cf0-a753-4455-8e5d-86f4ecbdff9a",
   "metadata": {},
   "outputs": [
    {
     "data": {
      "text/html": [
       "<div>\n",
       "<style scoped>\n",
       "    .dataframe tbody tr th:only-of-type {\n",
       "        vertical-align: middle;\n",
       "    }\n",
       "\n",
       "    .dataframe tbody tr th {\n",
       "        vertical-align: top;\n",
       "    }\n",
       "\n",
       "    .dataframe thead th {\n",
       "        text-align: right;\n",
       "    }\n",
       "</style>\n",
       "<table border=\"1\" class=\"dataframe\">\n",
       "  <thead>\n",
       "    <tr style=\"text-align: right;\">\n",
       "      <th></th>\n",
       "      <th>origen</th>\n",
       "      <th>categoria</th>\n",
       "      <th>codigo</th>\n",
       "      <th>num_ruta</th>\n",
       "      <th>jerarquia</th>\n",
       "      <th>nombre</th>\n",
       "      <th>num_carril</th>\n",
       "      <th>mat_supe</th>\n",
       "      <th>est_supe</th>\n",
       "      <th>condi_uso</th>\n",
       "      <th>...</th>\n",
       "      <th>refname</th>\n",
       "      <th>ltscale</th>\n",
       "      <th>extx</th>\n",
       "      <th>exty</th>\n",
       "      <th>extz</th>\n",
       "      <th>docname</th>\n",
       "      <th>docpath</th>\n",
       "      <th>doctype</th>\n",
       "      <th>docver</th>\n",
       "      <th>geometry</th>\n",
       "    </tr>\n",
       "  </thead>\n",
       "  <tbody>\n",
       "    <tr>\n",
       "      <th>0</th>\n",
       "      <td>CR25</td>\n",
       "      <td>CAMINO DE TIERRA</td>\n",
       "      <td>130107</td>\n",
       "      <td>None</td>\n",
       "      <td>None</td>\n",
       "      <td>None</td>\n",
       "      <td>None</td>\n",
       "      <td>None</td>\n",
       "      <td>None</td>\n",
       "      <td>None</td>\n",
       "      <td>...</td>\n",
       "      <td>None</td>\n",
       "      <td>0</td>\n",
       "      <td>0</td>\n",
       "      <td>0</td>\n",
       "      <td>0</td>\n",
       "      <td>None</td>\n",
       "      <td>None</td>\n",
       "      <td>None</td>\n",
       "      <td>None</td>\n",
       "      <td>LINESTRING (-83.59831 10.46632, -83.59831 10.4...</td>\n",
       "    </tr>\n",
       "    <tr>\n",
       "      <th>1</th>\n",
       "      <td>CR25</td>\n",
       "      <td>CAMINO DE TIERRA</td>\n",
       "      <td>130107</td>\n",
       "      <td>None</td>\n",
       "      <td>None</td>\n",
       "      <td>None</td>\n",
       "      <td>None</td>\n",
       "      <td>None</td>\n",
       "      <td>None</td>\n",
       "      <td>None</td>\n",
       "      <td>...</td>\n",
       "      <td>None</td>\n",
       "      <td>0</td>\n",
       "      <td>0</td>\n",
       "      <td>0</td>\n",
       "      <td>0</td>\n",
       "      <td>None</td>\n",
       "      <td>None</td>\n",
       "      <td>None</td>\n",
       "      <td>None</td>\n",
       "      <td>LINESTRING (-83.61624 10.49796, -83.61351 10.4...</td>\n",
       "    </tr>\n",
       "    <tr>\n",
       "      <th>2</th>\n",
       "      <td>CR25</td>\n",
       "      <td>CAMINO DE TIERRA</td>\n",
       "      <td>130107</td>\n",
       "      <td>None</td>\n",
       "      <td>None</td>\n",
       "      <td>None</td>\n",
       "      <td>None</td>\n",
       "      <td>None</td>\n",
       "      <td>None</td>\n",
       "      <td>None</td>\n",
       "      <td>...</td>\n",
       "      <td>None</td>\n",
       "      <td>0</td>\n",
       "      <td>0</td>\n",
       "      <td>0</td>\n",
       "      <td>0</td>\n",
       "      <td>None</td>\n",
       "      <td>None</td>\n",
       "      <td>None</td>\n",
       "      <td>None</td>\n",
       "      <td>LINESTRING (-83.60832 10.49670, -83.60765 10.5...</td>\n",
       "    </tr>\n",
       "    <tr>\n",
       "      <th>3</th>\n",
       "      <td>CR25</td>\n",
       "      <td>CAMINO DE TIERRA</td>\n",
       "      <td>130107</td>\n",
       "      <td>None</td>\n",
       "      <td>None</td>\n",
       "      <td>None</td>\n",
       "      <td>None</td>\n",
       "      <td>None</td>\n",
       "      <td>None</td>\n",
       "      <td>None</td>\n",
       "      <td>...</td>\n",
       "      <td>None</td>\n",
       "      <td>0</td>\n",
       "      <td>0</td>\n",
       "      <td>0</td>\n",
       "      <td>0</td>\n",
       "      <td>None</td>\n",
       "      <td>None</td>\n",
       "      <td>None</td>\n",
       "      <td>None</td>\n",
       "      <td>LINESTRING (-83.74584 10.55466, -83.74696 10.5...</td>\n",
       "    </tr>\n",
       "    <tr>\n",
       "      <th>4</th>\n",
       "      <td>CR25</td>\n",
       "      <td>CAMINO DE TIERRA</td>\n",
       "      <td>130107</td>\n",
       "      <td>None</td>\n",
       "      <td>None</td>\n",
       "      <td>None</td>\n",
       "      <td>None</td>\n",
       "      <td>None</td>\n",
       "      <td>None</td>\n",
       "      <td>None</td>\n",
       "      <td>...</td>\n",
       "      <td>None</td>\n",
       "      <td>0</td>\n",
       "      <td>0</td>\n",
       "      <td>0</td>\n",
       "      <td>0</td>\n",
       "      <td>None</td>\n",
       "      <td>None</td>\n",
       "      <td>None</td>\n",
       "      <td>None</td>\n",
       "      <td>LINESTRING (-83.64895 10.46992, -83.65056 10.4...</td>\n",
       "    </tr>\n",
       "    <tr>\n",
       "      <th>...</th>\n",
       "      <td>...</td>\n",
       "      <td>...</td>\n",
       "      <td>...</td>\n",
       "      <td>...</td>\n",
       "      <td>...</td>\n",
       "      <td>...</td>\n",
       "      <td>...</td>\n",
       "      <td>...</td>\n",
       "      <td>...</td>\n",
       "      <td>...</td>\n",
       "      <td>...</td>\n",
       "      <td>...</td>\n",
       "      <td>...</td>\n",
       "      <td>...</td>\n",
       "      <td>...</td>\n",
       "      <td>...</td>\n",
       "      <td>...</td>\n",
       "      <td>...</td>\n",
       "      <td>...</td>\n",
       "      <td>...</td>\n",
       "      <td>...</td>\n",
       "    </tr>\n",
       "    <tr>\n",
       "      <th>5725</th>\n",
       "      <td>CR25</td>\n",
       "      <td>AUTOPISTA</td>\n",
       "      <td>130101</td>\n",
       "      <td>1</td>\n",
       "      <td>None</td>\n",
       "      <td>AUTOPISTA GENERAL CAÑAS</td>\n",
       "      <td>None</td>\n",
       "      <td>None</td>\n",
       "      <td>None</td>\n",
       "      <td>None</td>\n",
       "      <td>...</td>\n",
       "      <td>None</td>\n",
       "      <td>0</td>\n",
       "      <td>0</td>\n",
       "      <td>0</td>\n",
       "      <td>0</td>\n",
       "      <td>None</td>\n",
       "      <td>None</td>\n",
       "      <td>None</td>\n",
       "      <td>None</td>\n",
       "      <td>LINESTRING (-84.09824 9.93583, -84.09831 9.937...</td>\n",
       "    </tr>\n",
       "    <tr>\n",
       "      <th>5726</th>\n",
       "      <td>CR25</td>\n",
       "      <td>AUTOPISTA</td>\n",
       "      <td>130101</td>\n",
       "      <td>39</td>\n",
       "      <td>None</td>\n",
       "      <td>None</td>\n",
       "      <td>None</td>\n",
       "      <td>None</td>\n",
       "      <td>None</td>\n",
       "      <td>None</td>\n",
       "      <td>...</td>\n",
       "      <td>None</td>\n",
       "      <td>0</td>\n",
       "      <td>0</td>\n",
       "      <td>0</td>\n",
       "      <td>0</td>\n",
       "      <td>None</td>\n",
       "      <td>None</td>\n",
       "      <td>None</td>\n",
       "      <td>None</td>\n",
       "      <td>LINESTRING (-84.06262 9.94642, -84.06159 9.945...</td>\n",
       "    </tr>\n",
       "    <tr>\n",
       "      <th>5727</th>\n",
       "      <td>CR25</td>\n",
       "      <td>AUTOPISTA</td>\n",
       "      <td>130101</td>\n",
       "      <td>27</td>\n",
       "      <td>None</td>\n",
       "      <td>AUTOPISTA JOSÉ MARÍA CASTRO MADRIZ</td>\n",
       "      <td>None</td>\n",
       "      <td>None</td>\n",
       "      <td>None</td>\n",
       "      <td>None</td>\n",
       "      <td>...</td>\n",
       "      <td>None</td>\n",
       "      <td>0</td>\n",
       "      <td>0</td>\n",
       "      <td>0</td>\n",
       "      <td>0</td>\n",
       "      <td>None</td>\n",
       "      <td>None</td>\n",
       "      <td>None</td>\n",
       "      <td>None</td>\n",
       "      <td>LINESTRING (-84.71120 9.91650, -84.71007 9.916...</td>\n",
       "    </tr>\n",
       "    <tr>\n",
       "      <th>5728</th>\n",
       "      <td>CR25</td>\n",
       "      <td>AUTOPISTA</td>\n",
       "      <td>130101</td>\n",
       "      <td>27</td>\n",
       "      <td>None</td>\n",
       "      <td>AUTOPISTA PROSPERO FERNÁNDEZ</td>\n",
       "      <td>None</td>\n",
       "      <td>None</td>\n",
       "      <td>None</td>\n",
       "      <td>None</td>\n",
       "      <td>...</td>\n",
       "      <td>None</td>\n",
       "      <td>0</td>\n",
       "      <td>0</td>\n",
       "      <td>0</td>\n",
       "      <td>0</td>\n",
       "      <td>None</td>\n",
       "      <td>None</td>\n",
       "      <td>None</td>\n",
       "      <td>None</td>\n",
       "      <td>LINESTRING (-84.21862 9.93646, -84.21417 9.936...</td>\n",
       "    </tr>\n",
       "    <tr>\n",
       "      <th>5729</th>\n",
       "      <td>CR25</td>\n",
       "      <td>AUTOPISTA</td>\n",
       "      <td>130101</td>\n",
       "      <td>32</td>\n",
       "      <td>None</td>\n",
       "      <td>CARRETERA BRAULIO CARRILLO</td>\n",
       "      <td>None</td>\n",
       "      <td>None</td>\n",
       "      <td>None</td>\n",
       "      <td>None</td>\n",
       "      <td>...</td>\n",
       "      <td>None</td>\n",
       "      <td>0</td>\n",
       "      <td>0</td>\n",
       "      <td>0</td>\n",
       "      <td>0</td>\n",
       "      <td>None</td>\n",
       "      <td>None</td>\n",
       "      <td>None</td>\n",
       "      <td>None</td>\n",
       "      <td>LINESTRING (-84.07674 9.94229, -84.07638 9.943...</td>\n",
       "    </tr>\n",
       "  </tbody>\n",
       "</table>\n",
       "<p>5730 rows × 52 columns</p>\n",
       "</div>"
      ],
      "text/plain": [
       "     origen         categoria  codigo num_ruta jerarquia  \\\n",
       "0      CR25  CAMINO DE TIERRA  130107     None      None   \n",
       "1      CR25  CAMINO DE TIERRA  130107     None      None   \n",
       "2      CR25  CAMINO DE TIERRA  130107     None      None   \n",
       "3      CR25  CAMINO DE TIERRA  130107     None      None   \n",
       "4      CR25  CAMINO DE TIERRA  130107     None      None   \n",
       "...     ...               ...     ...      ...       ...   \n",
       "5725   CR25         AUTOPISTA  130101        1      None   \n",
       "5726   CR25         AUTOPISTA  130101       39      None   \n",
       "5727   CR25         AUTOPISTA  130101       27      None   \n",
       "5728   CR25         AUTOPISTA  130101       27      None   \n",
       "5729   CR25         AUTOPISTA  130101       32      None   \n",
       "\n",
       "                                  nombre num_carril mat_supe est_supe  \\\n",
       "0                                   None       None     None     None   \n",
       "1                                   None       None     None     None   \n",
       "2                                   None       None     None     None   \n",
       "3                                   None       None     None     None   \n",
       "4                                   None       None     None     None   \n",
       "...                                  ...        ...      ...      ...   \n",
       "5725             AUTOPISTA GENERAL CAÑAS       None     None     None   \n",
       "5726                                None       None     None     None   \n",
       "5727  AUTOPISTA JOSÉ MARÍA CASTRO MADRIZ       None     None     None   \n",
       "5728        AUTOPISTA PROSPERO FERNÁNDEZ       None     None     None   \n",
       "5729          CARRETERA BRAULIO CARRILLO       None     None     None   \n",
       "\n",
       "     condi_uso  ... refname ltscale  extx exty extz  docname docpath  doctype  \\\n",
       "0         None  ...    None       0     0    0    0     None    None     None   \n",
       "1         None  ...    None       0     0    0    0     None    None     None   \n",
       "2         None  ...    None       0     0    0    0     None    None     None   \n",
       "3         None  ...    None       0     0    0    0     None    None     None   \n",
       "4         None  ...    None       0     0    0    0     None    None     None   \n",
       "...        ...  ...     ...     ...   ...  ...  ...      ...     ...      ...   \n",
       "5725      None  ...    None       0     0    0    0     None    None     None   \n",
       "5726      None  ...    None       0     0    0    0     None    None     None   \n",
       "5727      None  ...    None       0     0    0    0     None    None     None   \n",
       "5728      None  ...    None       0     0    0    0     None    None     None   \n",
       "5729      None  ...    None       0     0    0    0     None    None     None   \n",
       "\n",
       "     docver                                           geometry  \n",
       "0      None  LINESTRING (-83.59831 10.46632, -83.59831 10.4...  \n",
       "1      None  LINESTRING (-83.61624 10.49796, -83.61351 10.4...  \n",
       "2      None  LINESTRING (-83.60832 10.49670, -83.60765 10.5...  \n",
       "3      None  LINESTRING (-83.74584 10.55466, -83.74696 10.5...  \n",
       "4      None  LINESTRING (-83.64895 10.46992, -83.65056 10.4...  \n",
       "...     ...                                                ...  \n",
       "5725   None  LINESTRING (-84.09824 9.93583, -84.09831 9.937...  \n",
       "5726   None  LINESTRING (-84.06262 9.94642, -84.06159 9.945...  \n",
       "5727   None  LINESTRING (-84.71120 9.91650, -84.71007 9.916...  \n",
       "5728   None  LINESTRING (-84.21862 9.93646, -84.21417 9.936...  \n",
       "5729   None  LINESTRING (-84.07674 9.94229, -84.07638 9.943...  \n",
       "\n",
       "[5730 rows x 52 columns]"
      ]
     },
     "execution_count": 4,
     "metadata": {},
     "output_type": "execute_result"
    }
   ],
   "source": [
    "# Solicitud de capa WFS de red vial mediante GET, para retornarse como JSON\n",
    "\n",
    "# Parámetros de la solicitud\n",
    "params = dict(service='WFS',\n",
    "              version='1.1.0', \n",
    "              request='GetFeature', \n",
    "              typeName='IGN_200:redvial_200k',       # la de interés\n",
    "              srsName='urn:ogc:def:crs:EPSG::4326',\n",
    "              outputFormat='json')\n",
    "\n",
    "# Solicitud\n",
    "response = requests.get(\"https://geos.snitcr.go.cr/be/IGN_200/wfs?version=1.1.0\", params=params)\n",
    "\n",
    "# Descarga de la respuesta en un archivo GeoJSON\n",
    "\n",
    "with open('../datos/red_vial.geojson', 'w') as file:\n",
    "    dump(response.json(), file)\n",
    "\n",
    "\n",
    "# Lectura como geodataframe\n",
    "data_red_vial = gpd.read_file('../datos/red_vial.geojson')\n",
    "\n",
    "# Despliegue de la tabla\n",
    "data_red_vial"
   ]
  },
  {
   "cell_type": "markdown",
   "id": "6c5657fa-afa5-4b9d-9c52-8283972b27db",
   "metadata": {},
   "source": [
    "## Cálculo de la intersección de líneas dentro de los cantones\n",
    "Para determinar la densidad de carrteras para cada cantón, necesitamos obtener los fragmentos de carretera que se encuentran únicamente dentro de cada cantón. El método overlay() de GeoPandas nos será útil para esto. Así podremos crear un nuevo set de datos con los fragmentos de autopista contenidos en cada cantón, otra ventaja de overlay() es que nos permite conservar los atributos de los cantones y de la red vial."
   ]
  },
  {
   "cell_type": "code",
   "execution_count": 5,
   "id": "7405cf11-2f17-4893-8b46-e71f2915b581",
   "metadata": {},
   "outputs": [
    {
     "name": "stderr",
     "output_type": "stream",
     "text": [
      "C:\\Users\\ricor\\anaconda3\\lib\\site-packages\\geopandas\\geodataframe.py:2196: UserWarning: `keep_geom_type=True` in overlay resulted in 218 dropped geometries of different geometry types than df1 has. Set `keep_geom_type=False` to retain all geometries\n",
      "  return geopandas.overlay(\n"
     ]
    },
    {
     "data": {
      "text/html": [
       "<div>\n",
       "<style scoped>\n",
       "    .dataframe tbody tr th:only-of-type {\n",
       "        vertical-align: middle;\n",
       "    }\n",
       "\n",
       "    .dataframe tbody tr th {\n",
       "        vertical-align: top;\n",
       "    }\n",
       "\n",
       "    .dataframe thead th {\n",
       "        text-align: right;\n",
       "    }\n",
       "</style>\n",
       "<table border=\"1\" class=\"dataframe\">\n",
       "  <thead>\n",
       "    <tr style=\"text-align: right;\">\n",
       "      <th></th>\n",
       "      <th>origen</th>\n",
       "      <th>categoria</th>\n",
       "      <th>codigo</th>\n",
       "      <th>num_ruta</th>\n",
       "      <th>jerarquia</th>\n",
       "      <th>nombre</th>\n",
       "      <th>num_carril</th>\n",
       "      <th>mat_supe</th>\n",
       "      <th>est_supe</th>\n",
       "      <th>condi_uso</th>\n",
       "      <th>...</th>\n",
       "      <th>gmlid</th>\n",
       "      <th>cod_catalo</th>\n",
       "      <th>cod_canton</th>\n",
       "      <th>canton</th>\n",
       "      <th>ori_toponi</th>\n",
       "      <th>area</th>\n",
       "      <th>cod_provin</th>\n",
       "      <th>provincia</th>\n",
       "      <th>version</th>\n",
       "      <th>geometry</th>\n",
       "    </tr>\n",
       "  </thead>\n",
       "  <tbody>\n",
       "    <tr>\n",
       "      <th>0</th>\n",
       "      <td>CR25</td>\n",
       "      <td>CAMINO DE TIERRA</td>\n",
       "      <td>130107</td>\n",
       "      <td>None</td>\n",
       "      <td>None</td>\n",
       "      <td>None</td>\n",
       "      <td>None</td>\n",
       "      <td>None</td>\n",
       "      <td>None</td>\n",
       "      <td>None</td>\n",
       "      <td>...</td>\n",
       "      <td>limitecantonal_5k.70</td>\n",
       "      <td>160104</td>\n",
       "      <td>702</td>\n",
       "      <td>Pococí</td>\n",
       "      <td>Se le asignó en recuerdo de la provincia indíg...</td>\n",
       "      <td>2408.76</td>\n",
       "      <td>7</td>\n",
       "      <td>Limón</td>\n",
       "      <td>20201222</td>\n",
       "      <td>LINESTRING (-83.59831 10.46632, -83.59831 10.4...</td>\n",
       "    </tr>\n",
       "    <tr>\n",
       "      <th>1</th>\n",
       "      <td>CR25</td>\n",
       "      <td>CAMINO DE TIERRA</td>\n",
       "      <td>130107</td>\n",
       "      <td>None</td>\n",
       "      <td>None</td>\n",
       "      <td>None</td>\n",
       "      <td>None</td>\n",
       "      <td>None</td>\n",
       "      <td>None</td>\n",
       "      <td>None</td>\n",
       "      <td>...</td>\n",
       "      <td>limitecantonal_5k.70</td>\n",
       "      <td>160104</td>\n",
       "      <td>702</td>\n",
       "      <td>Pococí</td>\n",
       "      <td>Se le asignó en recuerdo de la provincia indíg...</td>\n",
       "      <td>2408.76</td>\n",
       "      <td>7</td>\n",
       "      <td>Limón</td>\n",
       "      <td>20201222</td>\n",
       "      <td>LINESTRING (-83.61624 10.49796, -83.61351 10.4...</td>\n",
       "    </tr>\n",
       "    <tr>\n",
       "      <th>2</th>\n",
       "      <td>CR25</td>\n",
       "      <td>CAMINO DE TIERRA</td>\n",
       "      <td>130107</td>\n",
       "      <td>None</td>\n",
       "      <td>None</td>\n",
       "      <td>None</td>\n",
       "      <td>None</td>\n",
       "      <td>None</td>\n",
       "      <td>None</td>\n",
       "      <td>None</td>\n",
       "      <td>...</td>\n",
       "      <td>limitecantonal_5k.70</td>\n",
       "      <td>160104</td>\n",
       "      <td>702</td>\n",
       "      <td>Pococí</td>\n",
       "      <td>Se le asignó en recuerdo de la provincia indíg...</td>\n",
       "      <td>2408.76</td>\n",
       "      <td>7</td>\n",
       "      <td>Limón</td>\n",
       "      <td>20201222</td>\n",
       "      <td>LINESTRING (-83.60832 10.49670, -83.60765 10.5...</td>\n",
       "    </tr>\n",
       "    <tr>\n",
       "      <th>3</th>\n",
       "      <td>CR25</td>\n",
       "      <td>CAMINO DE TIERRA</td>\n",
       "      <td>130107</td>\n",
       "      <td>None</td>\n",
       "      <td>None</td>\n",
       "      <td>None</td>\n",
       "      <td>None</td>\n",
       "      <td>None</td>\n",
       "      <td>None</td>\n",
       "      <td>None</td>\n",
       "      <td>...</td>\n",
       "      <td>limitecantonal_5k.70</td>\n",
       "      <td>160104</td>\n",
       "      <td>702</td>\n",
       "      <td>Pococí</td>\n",
       "      <td>Se le asignó en recuerdo de la provincia indíg...</td>\n",
       "      <td>2408.76</td>\n",
       "      <td>7</td>\n",
       "      <td>Limón</td>\n",
       "      <td>20201222</td>\n",
       "      <td>LINESTRING (-83.74584 10.55466, -83.74696 10.5...</td>\n",
       "    </tr>\n",
       "    <tr>\n",
       "      <th>4</th>\n",
       "      <td>CR25</td>\n",
       "      <td>CAMINO DE TIERRA</td>\n",
       "      <td>130107</td>\n",
       "      <td>None</td>\n",
       "      <td>None</td>\n",
       "      <td>None</td>\n",
       "      <td>None</td>\n",
       "      <td>None</td>\n",
       "      <td>None</td>\n",
       "      <td>None</td>\n",
       "      <td>...</td>\n",
       "      <td>limitecantonal_5k.70</td>\n",
       "      <td>160104</td>\n",
       "      <td>702</td>\n",
       "      <td>Pococí</td>\n",
       "      <td>Se le asignó en recuerdo de la provincia indíg...</td>\n",
       "      <td>2408.76</td>\n",
       "      <td>7</td>\n",
       "      <td>Limón</td>\n",
       "      <td>20201222</td>\n",
       "      <td>LINESTRING (-83.64895 10.46992, -83.65056 10.4...</td>\n",
       "    </tr>\n",
       "    <tr>\n",
       "      <th>...</th>\n",
       "      <td>...</td>\n",
       "      <td>...</td>\n",
       "      <td>...</td>\n",
       "      <td>...</td>\n",
       "      <td>...</td>\n",
       "      <td>...</td>\n",
       "      <td>...</td>\n",
       "      <td>...</td>\n",
       "      <td>...</td>\n",
       "      <td>...</td>\n",
       "      <td>...</td>\n",
       "      <td>...</td>\n",
       "      <td>...</td>\n",
       "      <td>...</td>\n",
       "      <td>...</td>\n",
       "      <td>...</td>\n",
       "      <td>...</td>\n",
       "      <td>...</td>\n",
       "      <td>...</td>\n",
       "      <td>...</td>\n",
       "      <td>...</td>\n",
       "    </tr>\n",
       "    <tr>\n",
       "      <th>6610</th>\n",
       "      <td>CR25</td>\n",
       "      <td>CARRETERA PAVIMENTO UNA VIA</td>\n",
       "      <td>130103</td>\n",
       "      <td>None</td>\n",
       "      <td>None</td>\n",
       "      <td>None</td>\n",
       "      <td>None</td>\n",
       "      <td>None</td>\n",
       "      <td>None</td>\n",
       "      <td>None</td>\n",
       "      <td>...</td>\n",
       "      <td>limitecantonal_5k.53</td>\n",
       "      <td>160104</td>\n",
       "      <td>408</td>\n",
       "      <td>Flores</td>\n",
       "      <td>El nombre del cantón se otorgá  en memoria del...</td>\n",
       "      <td>6.75</td>\n",
       "      <td>4</td>\n",
       "      <td>Heredia</td>\n",
       "      <td>20201222</td>\n",
       "      <td>MULTILINESTRING ((-84.13398 10.00974, -84.1350...</td>\n",
       "    </tr>\n",
       "    <tr>\n",
       "      <th>6611</th>\n",
       "      <td>CR25</td>\n",
       "      <td>CARRETERA PAVIMENTO DOS VIAS O MAS</td>\n",
       "      <td>130102</td>\n",
       "      <td>129</td>\n",
       "      <td>None</td>\n",
       "      <td>None</td>\n",
       "      <td>None</td>\n",
       "      <td>None</td>\n",
       "      <td>None</td>\n",
       "      <td>None</td>\n",
       "      <td>...</td>\n",
       "      <td>limitecantonal_5k.53</td>\n",
       "      <td>160104</td>\n",
       "      <td>408</td>\n",
       "      <td>Flores</td>\n",
       "      <td>El nombre del cantón se otorgá  en memoria del...</td>\n",
       "      <td>6.75</td>\n",
       "      <td>4</td>\n",
       "      <td>Heredia</td>\n",
       "      <td>20201222</td>\n",
       "      <td>LINESTRING (-84.16732 9.99574, -84.16710 9.995...</td>\n",
       "    </tr>\n",
       "    <tr>\n",
       "      <th>6612</th>\n",
       "      <td>CR25</td>\n",
       "      <td>CARRETERA PAVIMENTO DOS VIAS O MAS</td>\n",
       "      <td>130102</td>\n",
       "      <td>123</td>\n",
       "      <td>None</td>\n",
       "      <td>None</td>\n",
       "      <td>None</td>\n",
       "      <td>None</td>\n",
       "      <td>None</td>\n",
       "      <td>None</td>\n",
       "      <td>...</td>\n",
       "      <td>limitecantonal_5k.53</td>\n",
       "      <td>160104</td>\n",
       "      <td>408</td>\n",
       "      <td>Flores</td>\n",
       "      <td>El nombre del cantón se otorgá  en memoria del...</td>\n",
       "      <td>6.75</td>\n",
       "      <td>4</td>\n",
       "      <td>Heredia</td>\n",
       "      <td>20201222</td>\n",
       "      <td>LINESTRING (-84.15059 10.00034, -84.14973 10.0...</td>\n",
       "    </tr>\n",
       "    <tr>\n",
       "      <th>6613</th>\n",
       "      <td>CR25</td>\n",
       "      <td>CARRETERA PAVIMENTO DOS VIAS O MAS</td>\n",
       "      <td>130102</td>\n",
       "      <td>119</td>\n",
       "      <td>None</td>\n",
       "      <td>None</td>\n",
       "      <td>None</td>\n",
       "      <td>None</td>\n",
       "      <td>None</td>\n",
       "      <td>None</td>\n",
       "      <td>...</td>\n",
       "      <td>limitecantonal_5k.53</td>\n",
       "      <td>160104</td>\n",
       "      <td>408</td>\n",
       "      <td>Flores</td>\n",
       "      <td>El nombre del cantón se otorgá  en memoria del...</td>\n",
       "      <td>6.75</td>\n",
       "      <td>4</td>\n",
       "      <td>Heredia</td>\n",
       "      <td>20201222</td>\n",
       "      <td>LINESTRING (-84.14335 10.01374, -84.14335 10.0...</td>\n",
       "    </tr>\n",
       "    <tr>\n",
       "      <th>6614</th>\n",
       "      <td>CR25</td>\n",
       "      <td>CARRETERA PAVIMENTO DOS VIAS O MAS</td>\n",
       "      <td>130102</td>\n",
       "      <td>3</td>\n",
       "      <td>None</td>\n",
       "      <td>None</td>\n",
       "      <td>None</td>\n",
       "      <td>None</td>\n",
       "      <td>None</td>\n",
       "      <td>None</td>\n",
       "      <td>...</td>\n",
       "      <td>limitecantonal_5k.53</td>\n",
       "      <td>160104</td>\n",
       "      <td>408</td>\n",
       "      <td>Flores</td>\n",
       "      <td>El nombre del cantón se otorgá  en memoria del...</td>\n",
       "      <td>6.75</td>\n",
       "      <td>4</td>\n",
       "      <td>Heredia</td>\n",
       "      <td>20201222</td>\n",
       "      <td>LINESTRING (-84.17378 10.00505, -84.17360 10.0...</td>\n",
       "    </tr>\n",
       "  </tbody>\n",
       "</table>\n",
       "<p>6615 rows × 62 columns</p>\n",
       "</div>"
      ],
      "text/plain": [
       "     origen                           categoria  codigo num_ruta jerarquia  \\\n",
       "0      CR25                    CAMINO DE TIERRA  130107     None      None   \n",
       "1      CR25                    CAMINO DE TIERRA  130107     None      None   \n",
       "2      CR25                    CAMINO DE TIERRA  130107     None      None   \n",
       "3      CR25                    CAMINO DE TIERRA  130107     None      None   \n",
       "4      CR25                    CAMINO DE TIERRA  130107     None      None   \n",
       "...     ...                                 ...     ...      ...       ...   \n",
       "6610   CR25         CARRETERA PAVIMENTO UNA VIA  130103     None      None   \n",
       "6611   CR25  CARRETERA PAVIMENTO DOS VIAS O MAS  130102      129      None   \n",
       "6612   CR25  CARRETERA PAVIMENTO DOS VIAS O MAS  130102      123      None   \n",
       "6613   CR25  CARRETERA PAVIMENTO DOS VIAS O MAS  130102      119      None   \n",
       "6614   CR25  CARRETERA PAVIMENTO DOS VIAS O MAS  130102        3      None   \n",
       "\n",
       "     nombre num_carril mat_supe est_supe condi_uso  ...                 gmlid  \\\n",
       "0      None       None     None     None      None  ...  limitecantonal_5k.70   \n",
       "1      None       None     None     None      None  ...  limitecantonal_5k.70   \n",
       "2      None       None     None     None      None  ...  limitecantonal_5k.70   \n",
       "3      None       None     None     None      None  ...  limitecantonal_5k.70   \n",
       "4      None       None     None     None      None  ...  limitecantonal_5k.70   \n",
       "...     ...        ...      ...      ...       ...  ...                   ...   \n",
       "6610   None       None     None     None      None  ...  limitecantonal_5k.53   \n",
       "6611   None       None     None     None      None  ...  limitecantonal_5k.53   \n",
       "6612   None       None     None     None      None  ...  limitecantonal_5k.53   \n",
       "6613   None       None     None     None      None  ...  limitecantonal_5k.53   \n",
       "6614   None       None     None     None      None  ...  limitecantonal_5k.53   \n",
       "\n",
       "     cod_catalo  cod_canton  canton  \\\n",
       "0        160104         702  Pococí   \n",
       "1        160104         702  Pococí   \n",
       "2        160104         702  Pococí   \n",
       "3        160104         702  Pococí   \n",
       "4        160104         702  Pococí   \n",
       "...         ...         ...     ...   \n",
       "6610     160104         408  Flores   \n",
       "6611     160104         408  Flores   \n",
       "6612     160104         408  Flores   \n",
       "6613     160104         408  Flores   \n",
       "6614     160104         408  Flores   \n",
       "\n",
       "                                             ori_toponi     area cod_provin  \\\n",
       "0     Se le asignó en recuerdo de la provincia indíg...  2408.76          7   \n",
       "1     Se le asignó en recuerdo de la provincia indíg...  2408.76          7   \n",
       "2     Se le asignó en recuerdo de la provincia indíg...  2408.76          7   \n",
       "3     Se le asignó en recuerdo de la provincia indíg...  2408.76          7   \n",
       "4     Se le asignó en recuerdo de la provincia indíg...  2408.76          7   \n",
       "...                                                 ...      ...        ...   \n",
       "6610  El nombre del cantón se otorgá  en memoria del...     6.75          4   \n",
       "6611  El nombre del cantón se otorgá  en memoria del...     6.75          4   \n",
       "6612  El nombre del cantón se otorgá  en memoria del...     6.75          4   \n",
       "6613  El nombre del cantón se otorgá  en memoria del...     6.75          4   \n",
       "6614  El nombre del cantón se otorgá  en memoria del...     6.75          4   \n",
       "\n",
       "      provincia   version                                           geometry  \n",
       "0         Limón  20201222  LINESTRING (-83.59831 10.46632, -83.59831 10.4...  \n",
       "1         Limón  20201222  LINESTRING (-83.61624 10.49796, -83.61351 10.4...  \n",
       "2         Limón  20201222  LINESTRING (-83.60832 10.49670, -83.60765 10.5...  \n",
       "3         Limón  20201222  LINESTRING (-83.74584 10.55466, -83.74696 10.5...  \n",
       "4         Limón  20201222  LINESTRING (-83.64895 10.46992, -83.65056 10.4...  \n",
       "...         ...       ...                                                ...  \n",
       "6610    Heredia  20201222  MULTILINESTRING ((-84.13398 10.00974, -84.1350...  \n",
       "6611    Heredia  20201222  LINESTRING (-84.16732 9.99574, -84.16710 9.995...  \n",
       "6612    Heredia  20201222  LINESTRING (-84.15059 10.00034, -84.14973 10.0...  \n",
       "6613    Heredia  20201222  LINESTRING (-84.14335 10.01374, -84.14335 10.0...  \n",
       "6614    Heredia  20201222  LINESTRING (-84.17378 10.00505, -84.17360 10.0...  \n",
       "\n",
       "[6615 rows x 62 columns]"
      ]
     },
     "execution_count": 5,
     "metadata": {},
     "output_type": "execute_result"
    }
   ],
   "source": [
    "red_vial_por_canton = data_red_vial.overlay(data_cantones, how='intersection')\n",
    "red_vial_por_canton"
   ]
  },
  {
   "cell_type": "markdown",
   "id": "be7d21b2-ed92-40cb-aa5c-b99c548cc0cf",
   "metadata": {},
   "source": [
    "El resultado es un geodataframe con la información de los fragmentos de carretera (filas), y sus respectivos atriburos (columnas)"
   ]
  },
  {
   "cell_type": "markdown",
   "id": "16686bb8-eb66-4633-9f0d-c7913f0fd601",
   "metadata": {},
   "source": [
    "## Cálculo de la longitud de los fragmentos de autopista"
   ]
  },
  {
   "cell_type": "markdown",
   "id": "0117247c-82e1-4a7b-8021-19b4f7d6c2e4",
   "metadata": {},
   "source": [
    "La longitud será almacenada en la columna longitud. Dividimos para considerar Km como unidad de medida."
   ]
  },
  {
   "cell_type": "code",
   "execution_count": 6,
   "id": "843ee0ce-ba9e-40bb-b981-544cf5a2626e",
   "metadata": {},
   "outputs": [],
   "source": [
    "red_vial_por_canton['longitud_km'] = red_vial_por_canton.geometry.to_crs(5367).length / 1000"
   ]
  },
  {
   "cell_type": "code",
   "execution_count": 7,
   "id": "06ed07e1-312d-4a1b-898c-1971e4a03524",
   "metadata": {},
   "outputs": [
    {
     "data": {
      "text/plain": [
       "0       8.744951\n",
       "1       8.188802\n",
       "2       2.135535\n",
       "3       2.302053\n",
       "4       8.779121\n",
       "          ...   \n",
       "6610    0.477715\n",
       "6611    1.772530\n",
       "6612    2.495700\n",
       "6613    1.442070\n",
       "6614    2.754299\n",
       "Name: longitud_km, Length: 6615, dtype: float64"
      ]
     },
     "execution_count": 7,
     "metadata": {},
     "output_type": "execute_result"
    }
   ],
   "source": [
    "red_vial_por_canton.longitud_km"
   ]
  },
  {
   "cell_type": "markdown",
   "id": "b32f016b-2406-4470-b5b3-38cb582c3aa2",
   "metadata": {},
   "source": [
    "### Vamos a determinar cuantos km de carretera de cada tipo hay en cada cantón"
   ]
  },
  {
   "cell_type": "code",
   "execution_count": 8,
   "id": "d596cd36-5993-4689-b374-87670e83491d",
   "metadata": {},
   "outputs": [
    {
     "data": {
      "text/html": [
       "<div>\n",
       "<style scoped>\n",
       "    .dataframe tbody tr th:only-of-type {\n",
       "        vertical-align: middle;\n",
       "    }\n",
       "\n",
       "    .dataframe tbody tr th {\n",
       "        vertical-align: top;\n",
       "    }\n",
       "\n",
       "    .dataframe thead th {\n",
       "        text-align: right;\n",
       "    }\n",
       "</style>\n",
       "<table border=\"1\" class=\"dataframe\">\n",
       "  <thead>\n",
       "    <tr style=\"text-align: right;\">\n",
       "      <th></th>\n",
       "      <th>canton</th>\n",
       "      <th>categoria</th>\n",
       "      <th>longitud_km</th>\n",
       "    </tr>\n",
       "  </thead>\n",
       "  <tbody>\n",
       "    <tr>\n",
       "      <th>0</th>\n",
       "      <td>Abangares</td>\n",
       "      <td>CAMINO DE TIERRA</td>\n",
       "      <td>331.974330</td>\n",
       "    </tr>\n",
       "    <tr>\n",
       "      <th>1</th>\n",
       "      <td>Abangares</td>\n",
       "      <td>CARRETERA PAVIMENTO DOS VIAS O MAS</td>\n",
       "      <td>27.801803</td>\n",
       "    </tr>\n",
       "    <tr>\n",
       "      <th>2</th>\n",
       "      <td>Abangares</td>\n",
       "      <td>CARRETERA PAVIMENTO UNA VIA</td>\n",
       "      <td>166.542215</td>\n",
       "    </tr>\n",
       "    <tr>\n",
       "      <th>3</th>\n",
       "      <td>Acosta</td>\n",
       "      <td>CAMINO DE TIERRA</td>\n",
       "      <td>134.985538</td>\n",
       "    </tr>\n",
       "    <tr>\n",
       "      <th>4</th>\n",
       "      <td>Acosta</td>\n",
       "      <td>CARRETERA PAVIMENTO DOS VIAS O MAS</td>\n",
       "      <td>61.873510</td>\n",
       "    </tr>\n",
       "    <tr>\n",
       "      <th>...</th>\n",
       "      <td>...</td>\n",
       "      <td>...</td>\n",
       "      <td>...</td>\n",
       "    </tr>\n",
       "    <tr>\n",
       "      <th>261</th>\n",
       "      <td>Vázquez de Coronado</td>\n",
       "      <td>CARRETERA PAVIMENTO DOS VIAS O MAS</td>\n",
       "      <td>39.489168</td>\n",
       "    </tr>\n",
       "    <tr>\n",
       "      <th>262</th>\n",
       "      <td>Vázquez de Coronado</td>\n",
       "      <td>CARRETERA PAVIMENTO UNA VIA</td>\n",
       "      <td>52.697501</td>\n",
       "    </tr>\n",
       "    <tr>\n",
       "      <th>263</th>\n",
       "      <td>Zarcero</td>\n",
       "      <td>CAMINO DE TIERRA</td>\n",
       "      <td>33.100991</td>\n",
       "    </tr>\n",
       "    <tr>\n",
       "      <th>264</th>\n",
       "      <td>Zarcero</td>\n",
       "      <td>CARRETERA PAVIMENTO DOS VIAS O MAS</td>\n",
       "      <td>13.691175</td>\n",
       "    </tr>\n",
       "    <tr>\n",
       "      <th>265</th>\n",
       "      <td>Zarcero</td>\n",
       "      <td>CARRETERA PAVIMENTO UNA VIA</td>\n",
       "      <td>96.592850</td>\n",
       "    </tr>\n",
       "  </tbody>\n",
       "</table>\n",
       "<p>266 rows × 3 columns</p>\n",
       "</div>"
      ],
      "text/plain": [
       "                  canton                           categoria  longitud_km\n",
       "0              Abangares                    CAMINO DE TIERRA   331.974330\n",
       "1              Abangares  CARRETERA PAVIMENTO DOS VIAS O MAS    27.801803\n",
       "2              Abangares         CARRETERA PAVIMENTO UNA VIA   166.542215\n",
       "3                 Acosta                    CAMINO DE TIERRA   134.985538\n",
       "4                 Acosta  CARRETERA PAVIMENTO DOS VIAS O MAS    61.873510\n",
       "..                   ...                                 ...          ...\n",
       "261  Vázquez de Coronado  CARRETERA PAVIMENTO DOS VIAS O MAS    39.489168\n",
       "262  Vázquez de Coronado         CARRETERA PAVIMENTO UNA VIA    52.697501\n",
       "263              Zarcero                    CAMINO DE TIERRA    33.100991\n",
       "264              Zarcero  CARRETERA PAVIMENTO DOS VIAS O MAS    13.691175\n",
       "265              Zarcero         CARRETERA PAVIMENTO UNA VIA    96.592850\n",
       "\n",
       "[266 rows x 3 columns]"
      ]
     },
     "execution_count": 8,
     "metadata": {},
     "output_type": "execute_result"
    }
   ],
   "source": [
    "metricas_canton_categoria = red_vial_por_canton.groupby(['canton', 'categoria']).agg(longitud_km=('longitud_km', sum)).reset_index()\n",
    "\n",
    "metricas_canton_categoria"
   ]
  },
  {
   "cell_type": "code",
   "execution_count": 9,
   "id": "0e7beea4-724c-4232-b54a-3cd6841445c6",
   "metadata": {},
   "outputs": [],
   "source": [
    "# Nuestra df base\n",
    "metricas_canton = red_vial_por_canton.groupby(['canton']).agg(longitud_total_km=('longitud_km', sum)).reset_index() # suma todas las carreteras en el cantón, sin discriminar por tipo\n",
    "\n",
    "# Acá sumamos el total de carretera, discriminando por tipo. Generamos una columna por tipo de carretera\n",
    "for categoria_ in metricas_canton_categoria.categoria.unique():\n",
    "    temp_df  = metricas_canton_categoria[metricas_canton_categoria.categoria == categoria_].groupby(['canton']).agg(longitud_km=('longitud_km', sum)).reset_index() # filtramos solo por la categoría en cuestión a la hora de hacer la sumatoria\n",
    "    col_name = 'longitud_km_' + categoria_.lower().replace(' ', '_') # el nombre de la columna, pasamos a minúscula. También reemplazamos espacios en blanco por guiones bajos\n",
    "    temp_df.rename(columns = {'longitud_km': col_name}, inplace = True) # renombramos la columna para \n",
    "    \n",
    "    metricas_canton           = metricas_canton.merge(temp_df, how='left', on='canton') # el método merge() de pandas es equivalente al JOIN de SQL\n",
    "    metricas_canton[col_name] = metricas_canton[col_name].fillna(0) # si el tipo de carretera no existe para el cantón, va a devolver NaN con el merge. Para este caso, los NaN pueden ser interpretados como 0"
   ]
  },
  {
   "cell_type": "code",
   "execution_count": 10,
   "id": "5f5addab-871f-422d-9b38-f87b9cd62018",
   "metadata": {},
   "outputs": [
    {
     "data": {
      "text/html": [
       "<div>\n",
       "<style scoped>\n",
       "    .dataframe tbody tr th:only-of-type {\n",
       "        vertical-align: middle;\n",
       "    }\n",
       "\n",
       "    .dataframe tbody tr th {\n",
       "        vertical-align: top;\n",
       "    }\n",
       "\n",
       "    .dataframe thead th {\n",
       "        text-align: right;\n",
       "    }\n",
       "</style>\n",
       "<table border=\"1\" class=\"dataframe\">\n",
       "  <thead>\n",
       "    <tr style=\"text-align: right;\">\n",
       "      <th></th>\n",
       "      <th>canton</th>\n",
       "      <th>longitud_total_km</th>\n",
       "      <th>longitud_km_camino_de_tierra</th>\n",
       "      <th>longitud_km_carretera_pavimento_dos_vias_o_mas</th>\n",
       "      <th>longitud_km_carretera_pavimento_una_via</th>\n",
       "      <th>longitud_km_autopista</th>\n",
       "      <th>longitud_km_carretera_sin_pavimento_dos_vias</th>\n",
       "    </tr>\n",
       "  </thead>\n",
       "  <tbody>\n",
       "    <tr>\n",
       "      <th>0</th>\n",
       "      <td>Abangares</td>\n",
       "      <td>526.318348</td>\n",
       "      <td>331.974330</td>\n",
       "      <td>27.801803</td>\n",
       "      <td>166.542215</td>\n",
       "      <td>0.000000</td>\n",
       "      <td>0.000000</td>\n",
       "    </tr>\n",
       "    <tr>\n",
       "      <th>1</th>\n",
       "      <td>Acosta</td>\n",
       "      <td>318.511715</td>\n",
       "      <td>134.985538</td>\n",
       "      <td>61.873510</td>\n",
       "      <td>121.652667</td>\n",
       "      <td>0.000000</td>\n",
       "      <td>0.000000</td>\n",
       "    </tr>\n",
       "    <tr>\n",
       "      <th>2</th>\n",
       "      <td>Alajuela</td>\n",
       "      <td>458.009533</td>\n",
       "      <td>88.452023</td>\n",
       "      <td>186.163812</td>\n",
       "      <td>167.447436</td>\n",
       "      <td>15.946261</td>\n",
       "      <td>0.000000</td>\n",
       "    </tr>\n",
       "    <tr>\n",
       "      <th>3</th>\n",
       "      <td>Alajuelita</td>\n",
       "      <td>26.145619</td>\n",
       "      <td>0.551761</td>\n",
       "      <td>9.822212</td>\n",
       "      <td>15.771645</td>\n",
       "      <td>0.000000</td>\n",
       "      <td>0.000000</td>\n",
       "    </tr>\n",
       "    <tr>\n",
       "      <th>4</th>\n",
       "      <td>Alvarado</td>\n",
       "      <td>114.679926</td>\n",
       "      <td>29.163954</td>\n",
       "      <td>39.422903</td>\n",
       "      <td>24.724774</td>\n",
       "      <td>0.000000</td>\n",
       "      <td>21.368294</td>\n",
       "    </tr>\n",
       "    <tr>\n",
       "      <th>...</th>\n",
       "      <td>...</td>\n",
       "      <td>...</td>\n",
       "      <td>...</td>\n",
       "      <td>...</td>\n",
       "      <td>...</td>\n",
       "      <td>...</td>\n",
       "      <td>...</td>\n",
       "    </tr>\n",
       "    <tr>\n",
       "      <th>77</th>\n",
       "      <td>Turrialba</td>\n",
       "      <td>688.084095</td>\n",
       "      <td>251.619874</td>\n",
       "      <td>143.582803</td>\n",
       "      <td>270.827701</td>\n",
       "      <td>0.000000</td>\n",
       "      <td>22.053717</td>\n",
       "    </tr>\n",
       "    <tr>\n",
       "      <th>78</th>\n",
       "      <td>Turrubares</td>\n",
       "      <td>306.469978</td>\n",
       "      <td>201.945130</td>\n",
       "      <td>0.000000</td>\n",
       "      <td>46.432396</td>\n",
       "      <td>0.000000</td>\n",
       "      <td>58.092452</td>\n",
       "    </tr>\n",
       "    <tr>\n",
       "      <th>79</th>\n",
       "      <td>Upala</td>\n",
       "      <td>770.127924</td>\n",
       "      <td>339.287385</td>\n",
       "      <td>9.263710</td>\n",
       "      <td>418.675388</td>\n",
       "      <td>0.000000</td>\n",
       "      <td>2.901441</td>\n",
       "    </tr>\n",
       "    <tr>\n",
       "      <th>80</th>\n",
       "      <td>Vázquez de Coronado</td>\n",
       "      <td>123.561812</td>\n",
       "      <td>25.484231</td>\n",
       "      <td>39.489168</td>\n",
       "      <td>52.697501</td>\n",
       "      <td>5.890912</td>\n",
       "      <td>0.000000</td>\n",
       "    </tr>\n",
       "    <tr>\n",
       "      <th>81</th>\n",
       "      <td>Zarcero</td>\n",
       "      <td>143.385016</td>\n",
       "      <td>33.100991</td>\n",
       "      <td>13.691175</td>\n",
       "      <td>96.592850</td>\n",
       "      <td>0.000000</td>\n",
       "      <td>0.000000</td>\n",
       "    </tr>\n",
       "  </tbody>\n",
       "</table>\n",
       "<p>82 rows × 7 columns</p>\n",
       "</div>"
      ],
      "text/plain": [
       "                 canton  longitud_total_km  longitud_km_camino_de_tierra  \\\n",
       "0             Abangares         526.318348                    331.974330   \n",
       "1                Acosta         318.511715                    134.985538   \n",
       "2              Alajuela         458.009533                     88.452023   \n",
       "3            Alajuelita          26.145619                      0.551761   \n",
       "4              Alvarado         114.679926                     29.163954   \n",
       "..                  ...                ...                           ...   \n",
       "77            Turrialba         688.084095                    251.619874   \n",
       "78           Turrubares         306.469978                    201.945130   \n",
       "79                Upala         770.127924                    339.287385   \n",
       "80  Vázquez de Coronado         123.561812                     25.484231   \n",
       "81              Zarcero         143.385016                     33.100991   \n",
       "\n",
       "    longitud_km_carretera_pavimento_dos_vias_o_mas  \\\n",
       "0                                        27.801803   \n",
       "1                                        61.873510   \n",
       "2                                       186.163812   \n",
       "3                                         9.822212   \n",
       "4                                        39.422903   \n",
       "..                                             ...   \n",
       "77                                      143.582803   \n",
       "78                                        0.000000   \n",
       "79                                        9.263710   \n",
       "80                                       39.489168   \n",
       "81                                       13.691175   \n",
       "\n",
       "    longitud_km_carretera_pavimento_una_via  longitud_km_autopista  \\\n",
       "0                                166.542215               0.000000   \n",
       "1                                121.652667               0.000000   \n",
       "2                                167.447436              15.946261   \n",
       "3                                 15.771645               0.000000   \n",
       "4                                 24.724774               0.000000   \n",
       "..                                      ...                    ...   \n",
       "77                               270.827701               0.000000   \n",
       "78                                46.432396               0.000000   \n",
       "79                               418.675388               0.000000   \n",
       "80                                52.697501               5.890912   \n",
       "81                                96.592850               0.000000   \n",
       "\n",
       "    longitud_km_carretera_sin_pavimento_dos_vias  \n",
       "0                                       0.000000  \n",
       "1                                       0.000000  \n",
       "2                                       0.000000  \n",
       "3                                       0.000000  \n",
       "4                                      21.368294  \n",
       "..                                           ...  \n",
       "77                                     22.053717  \n",
       "78                                     58.092452  \n",
       "79                                      2.901441  \n",
       "80                                      0.000000  \n",
       "81                                      0.000000  \n",
       "\n",
       "[82 rows x 7 columns]"
      ]
     },
     "execution_count": 10,
     "metadata": {},
     "output_type": "execute_result"
    }
   ],
   "source": [
    "metricas_canton"
   ]
  },
  {
   "cell_type": "markdown",
   "id": "cf0f0e34-29af-4b8e-ad48-5fc7111a4f5f",
   "metadata": {},
   "source": [
    "## Nos falta determinar el área de cada cantón\n",
    "Multiplicamos por 1e-6 para pasar de m2 a Km2"
   ]
  },
  {
   "cell_type": "code",
   "execution_count": 11,
   "id": "0f81b1eb-c0d1-4c93-acb5-59b86cda1e58",
   "metadata": {},
   "outputs": [
    {
     "data": {
      "text/plain": [
       "0      623.611701\n",
       "1     1752.747402\n",
       "2      944.235455\n",
       "3     1932.697077\n",
       "4     2382.939438\n",
       "         ...     \n",
       "77     752.825456\n",
       "78    1332.709946\n",
       "79    1442.168480\n",
       "80    1592.673850\n",
       "81    1385.381781\n",
       "Name: area_km2, Length: 82, dtype: float64"
      ]
     },
     "execution_count": 11,
     "metadata": {},
     "output_type": "execute_result"
    }
   ],
   "source": [
    "data_cantones['area_km2'] = data_cantones.geometry.to_crs(5367).area * 1e-6\n",
    "data_cantones.area_km2"
   ]
  },
  {
   "cell_type": "markdown",
   "id": "a9d56f61-4f6b-40f8-a3bd-d903300729a0",
   "metadata": {},
   "source": [
    "### Ahora hacemos un merge de este atributo a nuestra dataframe metricas_canton"
   ]
  },
  {
   "cell_type": "code",
   "execution_count": 12,
   "id": "43f0c72b-262c-4527-b81c-871d1af83d10",
   "metadata": {
    "tags": []
   },
   "outputs": [],
   "source": [
    "metricas_canton = metricas_canton.merge(data_cantones[['canton', 'area_km2']], how='left', on='canton')"
   ]
  },
  {
   "cell_type": "code",
   "execution_count": 13,
   "id": "aead138b-d127-47ba-88d4-3f9dfc8bce8a",
   "metadata": {},
   "outputs": [
    {
     "data": {
      "text/html": [
       "<div>\n",
       "<style scoped>\n",
       "    .dataframe tbody tr th:only-of-type {\n",
       "        vertical-align: middle;\n",
       "    }\n",
       "\n",
       "    .dataframe tbody tr th {\n",
       "        vertical-align: top;\n",
       "    }\n",
       "\n",
       "    .dataframe thead th {\n",
       "        text-align: right;\n",
       "    }\n",
       "</style>\n",
       "<table border=\"1\" class=\"dataframe\">\n",
       "  <thead>\n",
       "    <tr style=\"text-align: right;\">\n",
       "      <th></th>\n",
       "      <th>canton</th>\n",
       "      <th>longitud_total_km</th>\n",
       "      <th>longitud_km_camino_de_tierra</th>\n",
       "      <th>longitud_km_carretera_pavimento_dos_vias_o_mas</th>\n",
       "      <th>longitud_km_carretera_pavimento_una_via</th>\n",
       "      <th>longitud_km_autopista</th>\n",
       "      <th>longitud_km_carretera_sin_pavimento_dos_vias</th>\n",
       "      <th>area_km2</th>\n",
       "      <th>densidad_red_vial</th>\n",
       "    </tr>\n",
       "  </thead>\n",
       "  <tbody>\n",
       "    <tr>\n",
       "      <th>0</th>\n",
       "      <td>Abangares</td>\n",
       "      <td>526.318348</td>\n",
       "      <td>331.974330</td>\n",
       "      <td>27.801803</td>\n",
       "      <td>166.542215</td>\n",
       "      <td>0.000000</td>\n",
       "      <td>0.000000</td>\n",
       "      <td>646.020541</td>\n",
       "      <td>0.814708</td>\n",
       "    </tr>\n",
       "    <tr>\n",
       "      <th>1</th>\n",
       "      <td>Acosta</td>\n",
       "      <td>318.511715</td>\n",
       "      <td>134.985538</td>\n",
       "      <td>61.873510</td>\n",
       "      <td>121.652667</td>\n",
       "      <td>0.000000</td>\n",
       "      <td>0.000000</td>\n",
       "      <td>342.561419</td>\n",
       "      <td>0.929794</td>\n",
       "    </tr>\n",
       "    <tr>\n",
       "      <th>2</th>\n",
       "      <td>Alajuela</td>\n",
       "      <td>458.009533</td>\n",
       "      <td>88.452023</td>\n",
       "      <td>186.163812</td>\n",
       "      <td>167.447436</td>\n",
       "      <td>15.946261</td>\n",
       "      <td>0.000000</td>\n",
       "      <td>391.622724</td>\n",
       "      <td>1.169517</td>\n",
       "    </tr>\n",
       "    <tr>\n",
       "      <th>3</th>\n",
       "      <td>Alajuelita</td>\n",
       "      <td>26.145619</td>\n",
       "      <td>0.551761</td>\n",
       "      <td>9.822212</td>\n",
       "      <td>15.771645</td>\n",
       "      <td>0.000000</td>\n",
       "      <td>0.000000</td>\n",
       "      <td>21.465269</td>\n",
       "      <td>1.218043</td>\n",
       "    </tr>\n",
       "    <tr>\n",
       "      <th>4</th>\n",
       "      <td>Alvarado</td>\n",
       "      <td>114.679926</td>\n",
       "      <td>29.163954</td>\n",
       "      <td>39.422903</td>\n",
       "      <td>24.724774</td>\n",
       "      <td>0.000000</td>\n",
       "      <td>21.368294</td>\n",
       "      <td>79.183938</td>\n",
       "      <td>1.448273</td>\n",
       "    </tr>\n",
       "    <tr>\n",
       "      <th>...</th>\n",
       "      <td>...</td>\n",
       "      <td>...</td>\n",
       "      <td>...</td>\n",
       "      <td>...</td>\n",
       "      <td>...</td>\n",
       "      <td>...</td>\n",
       "      <td>...</td>\n",
       "      <td>...</td>\n",
       "      <td>...</td>\n",
       "    </tr>\n",
       "    <tr>\n",
       "      <th>77</th>\n",
       "      <td>Turrialba</td>\n",
       "      <td>688.084095</td>\n",
       "      <td>251.619874</td>\n",
       "      <td>143.582803</td>\n",
       "      <td>270.827701</td>\n",
       "      <td>0.000000</td>\n",
       "      <td>22.053717</td>\n",
       "      <td>1589.246432</td>\n",
       "      <td>0.432962</td>\n",
       "    </tr>\n",
       "    <tr>\n",
       "      <th>78</th>\n",
       "      <td>Turrubares</td>\n",
       "      <td>306.469978</td>\n",
       "      <td>201.945130</td>\n",
       "      <td>0.000000</td>\n",
       "      <td>46.432396</td>\n",
       "      <td>0.000000</td>\n",
       "      <td>58.092452</td>\n",
       "      <td>416.247997</td>\n",
       "      <td>0.736268</td>\n",
       "    </tr>\n",
       "    <tr>\n",
       "      <th>79</th>\n",
       "      <td>Upala</td>\n",
       "      <td>770.127924</td>\n",
       "      <td>339.287385</td>\n",
       "      <td>9.263710</td>\n",
       "      <td>418.675388</td>\n",
       "      <td>0.000000</td>\n",
       "      <td>2.901441</td>\n",
       "      <td>1592.673850</td>\n",
       "      <td>0.483544</td>\n",
       "    </tr>\n",
       "    <tr>\n",
       "      <th>80</th>\n",
       "      <td>Vázquez de Coronado</td>\n",
       "      <td>123.561812</td>\n",
       "      <td>25.484231</td>\n",
       "      <td>39.489168</td>\n",
       "      <td>52.697501</td>\n",
       "      <td>5.890912</td>\n",
       "      <td>0.000000</td>\n",
       "      <td>223.925587</td>\n",
       "      <td>0.551799</td>\n",
       "    </tr>\n",
       "    <tr>\n",
       "      <th>81</th>\n",
       "      <td>Zarcero</td>\n",
       "      <td>143.385016</td>\n",
       "      <td>33.100991</td>\n",
       "      <td>13.691175</td>\n",
       "      <td>96.592850</td>\n",
       "      <td>0.000000</td>\n",
       "      <td>0.000000</td>\n",
       "      <td>157.355917</td>\n",
       "      <td>0.911215</td>\n",
       "    </tr>\n",
       "  </tbody>\n",
       "</table>\n",
       "<p>82 rows × 9 columns</p>\n",
       "</div>"
      ],
      "text/plain": [
       "                 canton  longitud_total_km  longitud_km_camino_de_tierra  \\\n",
       "0             Abangares         526.318348                    331.974330   \n",
       "1                Acosta         318.511715                    134.985538   \n",
       "2              Alajuela         458.009533                     88.452023   \n",
       "3            Alajuelita          26.145619                      0.551761   \n",
       "4              Alvarado         114.679926                     29.163954   \n",
       "..                  ...                ...                           ...   \n",
       "77            Turrialba         688.084095                    251.619874   \n",
       "78           Turrubares         306.469978                    201.945130   \n",
       "79                Upala         770.127924                    339.287385   \n",
       "80  Vázquez de Coronado         123.561812                     25.484231   \n",
       "81              Zarcero         143.385016                     33.100991   \n",
       "\n",
       "    longitud_km_carretera_pavimento_dos_vias_o_mas  \\\n",
       "0                                        27.801803   \n",
       "1                                        61.873510   \n",
       "2                                       186.163812   \n",
       "3                                         9.822212   \n",
       "4                                        39.422903   \n",
       "..                                             ...   \n",
       "77                                      143.582803   \n",
       "78                                        0.000000   \n",
       "79                                        9.263710   \n",
       "80                                       39.489168   \n",
       "81                                       13.691175   \n",
       "\n",
       "    longitud_km_carretera_pavimento_una_via  longitud_km_autopista  \\\n",
       "0                                166.542215               0.000000   \n",
       "1                                121.652667               0.000000   \n",
       "2                                167.447436              15.946261   \n",
       "3                                 15.771645               0.000000   \n",
       "4                                 24.724774               0.000000   \n",
       "..                                      ...                    ...   \n",
       "77                               270.827701               0.000000   \n",
       "78                                46.432396               0.000000   \n",
       "79                               418.675388               0.000000   \n",
       "80                                52.697501               5.890912   \n",
       "81                                96.592850               0.000000   \n",
       "\n",
       "    longitud_km_carretera_sin_pavimento_dos_vias     area_km2  \\\n",
       "0                                       0.000000   646.020541   \n",
       "1                                       0.000000   342.561419   \n",
       "2                                       0.000000   391.622724   \n",
       "3                                       0.000000    21.465269   \n",
       "4                                      21.368294    79.183938   \n",
       "..                                           ...          ...   \n",
       "77                                     22.053717  1589.246432   \n",
       "78                                     58.092452   416.247997   \n",
       "79                                      2.901441  1592.673850   \n",
       "80                                      0.000000   223.925587   \n",
       "81                                      0.000000   157.355917   \n",
       "\n",
       "    densidad_red_vial  \n",
       "0            0.814708  \n",
       "1            0.929794  \n",
       "2            1.169517  \n",
       "3            1.218043  \n",
       "4            1.448273  \n",
       "..                ...  \n",
       "77           0.432962  \n",
       "78           0.736268  \n",
       "79           0.483544  \n",
       "80           0.551799  \n",
       "81           0.911215  \n",
       "\n",
       "[82 rows x 9 columns]"
      ]
     },
     "execution_count": 13,
     "metadata": {},
     "output_type": "execute_result"
    }
   ],
   "source": [
    "metricas_canton['densidad_red_vial'] = metricas_canton.longitud_total_km / metricas_canton.area_km2\n",
    "metricas_canton"
   ]
  },
  {
   "cell_type": "markdown",
   "id": "f05d7e2f-f237-427c-9ba5-19830ced5c65",
   "metadata": {},
   "source": [
    "## Un gráfico plotly de barras apiladas que muestre la longitud de los cinco tipos de red vial (autopistas, carreteras sin pavimento, caminos de tierra, etc.) en los 15 cantones de mayor longitud total de red vial."
   ]
  },
  {
   "cell_type": "code",
   "execution_count": 14,
   "id": "077ef78d-3a21-47dc-a1a6-7a64fa10c08b",
   "metadata": {},
   "outputs": [
    {
     "data": {
      "text/html": [
       "<div>\n",
       "<style scoped>\n",
       "    .dataframe tbody tr th:only-of-type {\n",
       "        vertical-align: middle;\n",
       "    }\n",
       "\n",
       "    .dataframe tbody tr th {\n",
       "        vertical-align: top;\n",
       "    }\n",
       "\n",
       "    .dataframe thead th {\n",
       "        text-align: right;\n",
       "    }\n",
       "</style>\n",
       "<table border=\"1\" class=\"dataframe\">\n",
       "  <thead>\n",
       "    <tr style=\"text-align: right;\">\n",
       "      <th></th>\n",
       "      <th>canton</th>\n",
       "      <th>longitud_total_km</th>\n",
       "      <th>longitud_km_camino_de_tierra</th>\n",
       "      <th>longitud_km_carretera_pavimento_dos_vias_o_mas</th>\n",
       "      <th>longitud_km_carretera_pavimento_una_via</th>\n",
       "      <th>longitud_km_autopista</th>\n",
       "      <th>longitud_km_carretera_sin_pavimento_dos_vias</th>\n",
       "      <th>area_km2</th>\n",
       "      <th>densidad_red_vial</th>\n",
       "    </tr>\n",
       "  </thead>\n",
       "  <tbody>\n",
       "    <tr>\n",
       "      <th>59</th>\n",
       "      <td>San Carlos</td>\n",
       "      <td>2591.060114</td>\n",
       "      <td>1681.485180</td>\n",
       "      <td>112.482571</td>\n",
       "      <td>797.092364</td>\n",
       "      <td>0.0</td>\n",
       "      <td>0.000000</td>\n",
       "      <td>3352.328969</td>\n",
       "      <td>0.772913</td>\n",
       "    </tr>\n",
       "    <tr>\n",
       "      <th>56</th>\n",
       "      <td>Pérez Zeledón</td>\n",
       "      <td>1429.560638</td>\n",
       "      <td>524.663691</td>\n",
       "      <td>316.750356</td>\n",
       "      <td>573.228060</td>\n",
       "      <td>0.0</td>\n",
       "      <td>14.918530</td>\n",
       "      <td>1901.082036</td>\n",
       "      <td>0.751972</td>\n",
       "    </tr>\n",
       "    <tr>\n",
       "      <th>54</th>\n",
       "      <td>Puntarenas</td>\n",
       "      <td>1368.162825</td>\n",
       "      <td>930.353850</td>\n",
       "      <td>0.000000</td>\n",
       "      <td>437.808976</td>\n",
       "      <td>0.0</td>\n",
       "      <td>0.000000</td>\n",
       "      <td>1840.370582</td>\n",
       "      <td>0.743417</td>\n",
       "    </tr>\n",
       "    <tr>\n",
       "      <th>10</th>\n",
       "      <td>Buenos Aires</td>\n",
       "      <td>1297.085971</td>\n",
       "      <td>691.732435</td>\n",
       "      <td>170.930281</td>\n",
       "      <td>434.423256</td>\n",
       "      <td>0.0</td>\n",
       "      <td>0.000000</td>\n",
       "      <td>2382.939438</td>\n",
       "      <td>0.544322</td>\n",
       "    </tr>\n",
       "    <tr>\n",
       "      <th>70</th>\n",
       "      <td>Sarapiquí</td>\n",
       "      <td>1103.353835</td>\n",
       "      <td>561.147774</td>\n",
       "      <td>110.717594</td>\n",
       "      <td>431.488468</td>\n",
       "      <td>0.0</td>\n",
       "      <td>0.000000</td>\n",
       "      <td>2144.380447</td>\n",
       "      <td>0.514533</td>\n",
       "    </tr>\n",
       "    <tr>\n",
       "      <th>35</th>\n",
       "      <td>Liberia</td>\n",
       "      <td>1070.443077</td>\n",
       "      <td>751.690852</td>\n",
       "      <td>39.948296</td>\n",
       "      <td>278.803929</td>\n",
       "      <td>0.0</td>\n",
       "      <td>0.000000</td>\n",
       "      <td>1442.168480</td>\n",
       "      <td>0.742246</td>\n",
       "    </tr>\n",
       "    <tr>\n",
       "      <th>52</th>\n",
       "      <td>Pococí</td>\n",
       "      <td>1058.021550</td>\n",
       "      <td>412.392879</td>\n",
       "      <td>132.560984</td>\n",
       "      <td>359.434806</td>\n",
       "      <td>0.0</td>\n",
       "      <td>153.632881</td>\n",
       "      <td>2408.763381</td>\n",
       "      <td>0.439238</td>\n",
       "    </tr>\n",
       "    <tr>\n",
       "      <th>45</th>\n",
       "      <td>Nicoya</td>\n",
       "      <td>982.178341</td>\n",
       "      <td>629.493097</td>\n",
       "      <td>20.657730</td>\n",
       "      <td>332.027514</td>\n",
       "      <td>0.0</td>\n",
       "      <td>0.000000</td>\n",
       "      <td>1337.569887</td>\n",
       "      <td>0.734301</td>\n",
       "    </tr>\n",
       "    <tr>\n",
       "      <th>68</th>\n",
       "      <td>Santa Cruz</td>\n",
       "      <td>965.178610</td>\n",
       "      <td>662.422593</td>\n",
       "      <td>0.000000</td>\n",
       "      <td>302.756017</td>\n",
       "      <td>0.0</td>\n",
       "      <td>0.000000</td>\n",
       "      <td>1320.809855</td>\n",
       "      <td>0.730748</td>\n",
       "    </tr>\n",
       "    <tr>\n",
       "      <th>7</th>\n",
       "      <td>Bagaces</td>\n",
       "      <td>847.540684</td>\n",
       "      <td>676.136467</td>\n",
       "      <td>29.012148</td>\n",
       "      <td>142.392069</td>\n",
       "      <td>0.0</td>\n",
       "      <td>0.000000</td>\n",
       "      <td>1277.925670</td>\n",
       "      <td>0.663216</td>\n",
       "    </tr>\n",
       "    <tr>\n",
       "      <th>37</th>\n",
       "      <td>Los Chiles</td>\n",
       "      <td>776.986909</td>\n",
       "      <td>433.729371</td>\n",
       "      <td>114.471628</td>\n",
       "      <td>228.785911</td>\n",
       "      <td>0.0</td>\n",
       "      <td>0.000000</td>\n",
       "      <td>1332.709946</td>\n",
       "      <td>0.583013</td>\n",
       "    </tr>\n",
       "    <tr>\n",
       "      <th>79</th>\n",
       "      <td>Upala</td>\n",
       "      <td>770.127924</td>\n",
       "      <td>339.287385</td>\n",
       "      <td>9.263710</td>\n",
       "      <td>418.675388</td>\n",
       "      <td>0.0</td>\n",
       "      <td>2.901441</td>\n",
       "      <td>1592.673850</td>\n",
       "      <td>0.483544</td>\n",
       "    </tr>\n",
       "    <tr>\n",
       "      <th>15</th>\n",
       "      <td>Coto Brus</td>\n",
       "      <td>747.452550</td>\n",
       "      <td>269.082211</td>\n",
       "      <td>108.759458</td>\n",
       "      <td>369.610881</td>\n",
       "      <td>0.0</td>\n",
       "      <td>0.000000</td>\n",
       "      <td>944.235455</td>\n",
       "      <td>0.791596</td>\n",
       "    </tr>\n",
       "    <tr>\n",
       "      <th>32</th>\n",
       "      <td>La Cruz</td>\n",
       "      <td>714.135936</td>\n",
       "      <td>535.093817</td>\n",
       "      <td>46.075473</td>\n",
       "      <td>128.664396</td>\n",
       "      <td>0.0</td>\n",
       "      <td>4.302249</td>\n",
       "      <td>1385.381781</td>\n",
       "      <td>0.515480</td>\n",
       "    </tr>\n",
       "    <tr>\n",
       "      <th>77</th>\n",
       "      <td>Turrialba</td>\n",
       "      <td>688.084095</td>\n",
       "      <td>251.619874</td>\n",
       "      <td>143.582803</td>\n",
       "      <td>270.827701</td>\n",
       "      <td>0.0</td>\n",
       "      <td>22.053717</td>\n",
       "      <td>1589.246432</td>\n",
       "      <td>0.432962</td>\n",
       "    </tr>\n",
       "  </tbody>\n",
       "</table>\n",
       "</div>"
      ],
      "text/plain": [
       "           canton  longitud_total_km  longitud_km_camino_de_tierra  \\\n",
       "59     San Carlos        2591.060114                   1681.485180   \n",
       "56  Pérez Zeledón        1429.560638                    524.663691   \n",
       "54     Puntarenas        1368.162825                    930.353850   \n",
       "10   Buenos Aires        1297.085971                    691.732435   \n",
       "70      Sarapiquí        1103.353835                    561.147774   \n",
       "35        Liberia        1070.443077                    751.690852   \n",
       "52         Pococí        1058.021550                    412.392879   \n",
       "45         Nicoya         982.178341                    629.493097   \n",
       "68     Santa Cruz         965.178610                    662.422593   \n",
       "7         Bagaces         847.540684                    676.136467   \n",
       "37     Los Chiles         776.986909                    433.729371   \n",
       "79          Upala         770.127924                    339.287385   \n",
       "15      Coto Brus         747.452550                    269.082211   \n",
       "32        La Cruz         714.135936                    535.093817   \n",
       "77      Turrialba         688.084095                    251.619874   \n",
       "\n",
       "    longitud_km_carretera_pavimento_dos_vias_o_mas  \\\n",
       "59                                      112.482571   \n",
       "56                                      316.750356   \n",
       "54                                        0.000000   \n",
       "10                                      170.930281   \n",
       "70                                      110.717594   \n",
       "35                                       39.948296   \n",
       "52                                      132.560984   \n",
       "45                                       20.657730   \n",
       "68                                        0.000000   \n",
       "7                                        29.012148   \n",
       "37                                      114.471628   \n",
       "79                                        9.263710   \n",
       "15                                      108.759458   \n",
       "32                                       46.075473   \n",
       "77                                      143.582803   \n",
       "\n",
       "    longitud_km_carretera_pavimento_una_via  longitud_km_autopista  \\\n",
       "59                               797.092364                    0.0   \n",
       "56                               573.228060                    0.0   \n",
       "54                               437.808976                    0.0   \n",
       "10                               434.423256                    0.0   \n",
       "70                               431.488468                    0.0   \n",
       "35                               278.803929                    0.0   \n",
       "52                               359.434806                    0.0   \n",
       "45                               332.027514                    0.0   \n",
       "68                               302.756017                    0.0   \n",
       "7                                142.392069                    0.0   \n",
       "37                               228.785911                    0.0   \n",
       "79                               418.675388                    0.0   \n",
       "15                               369.610881                    0.0   \n",
       "32                               128.664396                    0.0   \n",
       "77                               270.827701                    0.0   \n",
       "\n",
       "    longitud_km_carretera_sin_pavimento_dos_vias     area_km2  \\\n",
       "59                                      0.000000  3352.328969   \n",
       "56                                     14.918530  1901.082036   \n",
       "54                                      0.000000  1840.370582   \n",
       "10                                      0.000000  2382.939438   \n",
       "70                                      0.000000  2144.380447   \n",
       "35                                      0.000000  1442.168480   \n",
       "52                                    153.632881  2408.763381   \n",
       "45                                      0.000000  1337.569887   \n",
       "68                                      0.000000  1320.809855   \n",
       "7                                       0.000000  1277.925670   \n",
       "37                                      0.000000  1332.709946   \n",
       "79                                      2.901441  1592.673850   \n",
       "15                                      0.000000   944.235455   \n",
       "32                                      4.302249  1385.381781   \n",
       "77                                     22.053717  1589.246432   \n",
       "\n",
       "    densidad_red_vial  \n",
       "59           0.772913  \n",
       "56           0.751972  \n",
       "54           0.743417  \n",
       "10           0.544322  \n",
       "70           0.514533  \n",
       "35           0.742246  \n",
       "52           0.439238  \n",
       "45           0.734301  \n",
       "68           0.730748  \n",
       "7            0.663216  \n",
       "37           0.583013  \n",
       "79           0.483544  \n",
       "15           0.791596  \n",
       "32           0.515480  \n",
       "77           0.432962  "
      ]
     },
     "execution_count": 14,
     "metadata": {},
     "output_type": "execute_result"
    }
   ],
   "source": [
    "top_15_longitud = metricas_canton.sort_values('longitud_total_km', ascending=False).head(15)\n",
    "top_15_longitud"
   ]
  },
  {
   "cell_type": "markdown",
   "id": "5fd4e142-a195-4cfb-b80c-d85c8d81b6ff",
   "metadata": {},
   "source": [
    "### Para graficar, vamos a necesitar \"derretir\" la tabla, i.e. hacer que la tabla ancha sea más larga\n",
    "Podríamos utilizar la el método melt() de pandas, pero en este caso será más sencillo si hacemos uso del dataset metricas_canton_categoria y luego filtramos."
   ]
  },
  {
   "cell_type": "code",
   "execution_count": 15,
   "id": "431ebf83-64ba-4072-a1e5-87556552f6f7",
   "metadata": {},
   "outputs": [],
   "source": [
    "top_15 = top_15_longitud.canton.to_list()\n",
    "top_15_longitud_graficar = metricas_canton_categoria[metricas_canton_categoria.canton.isin(top_15)] # de nuestra df del principio, filtramos solo el top 15"
   ]
  },
  {
   "cell_type": "code",
   "execution_count": 19,
   "id": "df99fe2c-cbc9-4707-bf77-8c3f8ee631d1",
   "metadata": {},
   "outputs": [
    {
     "data": {
      "application/vnd.plotly.v1+json": {
       "config": {
        "plotlyServerURL": "https://plot.ly"
       },
       "data": [
        {
         "alignmentgroup": "True",
         "hovertemplate": "Categoría=CAMINO DE TIERRA<br>Cantón=%{x}<br>Longitud de carreteras (km)=%{y}<extra></extra>",
         "legendgroup": "CAMINO DE TIERRA",
         "marker": {
          "color": "#636efa",
          "pattern": {
           "shape": ""
          }
         },
         "name": "CAMINO DE TIERRA",
         "offsetgroup": "CAMINO DE TIERRA",
         "orientation": "v",
         "showlegend": true,
         "textposition": "auto",
         "type": "bar",
         "x": [
          "Bagaces",
          "Buenos Aires",
          "Coto Brus",
          "La Cruz",
          "Liberia",
          "Los Chiles",
          "Nicoya",
          "Pococí",
          "Puntarenas",
          "Pérez Zeledón",
          "San Carlos",
          "Santa Cruz",
          "Sarapiquí",
          "Turrialba",
          "Upala"
         ],
         "xaxis": "x",
         "y": [
          676.1364668846093,
          691.7324350613314,
          269.0822111547744,
          535.0938166645096,
          751.6908520822412,
          433.72937131691765,
          629.4930971098435,
          412.3928792593075,
          930.3538496636717,
          524.6636911845733,
          1681.4851797248255,
          662.4225932086114,
          561.1477735514204,
          251.6198737337368,
          339.2873846516424
         ],
         "yaxis": "y"
        },
        {
         "alignmentgroup": "True",
         "hovertemplate": "Categoría=CARRETERA PAVIMENTO DOS VIAS O MAS<br>Cantón=%{x}<br>Longitud de carreteras (km)=%{y}<extra></extra>",
         "legendgroup": "CARRETERA PAVIMENTO DOS VIAS O MAS",
         "marker": {
          "color": "#EF553B",
          "pattern": {
           "shape": ""
          }
         },
         "name": "CARRETERA PAVIMENTO DOS VIAS O MAS",
         "offsetgroup": "CARRETERA PAVIMENTO DOS VIAS O MAS",
         "orientation": "v",
         "showlegend": true,
         "textposition": "auto",
         "type": "bar",
         "x": [
          "Bagaces",
          "Buenos Aires",
          "Coto Brus",
          "La Cruz",
          "Liberia",
          "Los Chiles",
          "Nicoya",
          "Pococí",
          "Pérez Zeledón",
          "San Carlos",
          "Sarapiquí",
          "Turrialba",
          "Upala"
         ],
         "xaxis": "x",
         "y": [
          29.01214789702238,
          170.93028052228806,
          108.7594577977544,
          46.0754734962377,
          39.948296044112354,
          114.47162754594385,
          20.65773032570861,
          132.56098359671793,
          316.75035588834305,
          112.48257080164515,
          110.7175938188873,
          143.58280285456865,
          9.263710168357427
         ],
         "yaxis": "y"
        },
        {
         "alignmentgroup": "True",
         "hovertemplate": "Categoría=CARRETERA PAVIMENTO UNA VIA<br>Cantón=%{x}<br>Longitud de carreteras (km)=%{y}<extra></extra>",
         "legendgroup": "CARRETERA PAVIMENTO UNA VIA",
         "marker": {
          "color": "#00cc96",
          "pattern": {
           "shape": ""
          }
         },
         "name": "CARRETERA PAVIMENTO UNA VIA",
         "offsetgroup": "CARRETERA PAVIMENTO UNA VIA",
         "orientation": "v",
         "showlegend": true,
         "textposition": "auto",
         "type": "bar",
         "x": [
          "Bagaces",
          "Buenos Aires",
          "Coto Brus",
          "La Cruz",
          "Liberia",
          "Los Chiles",
          "Nicoya",
          "Pococí",
          "Puntarenas",
          "Pérez Zeledón",
          "San Carlos",
          "Santa Cruz",
          "Sarapiquí",
          "Turrialba",
          "Upala"
         ],
         "xaxis": "x",
         "y": [
          142.39206885055916,
          434.4232558959343,
          369.6108813343932,
          128.664396445904,
          278.8039292085579,
          228.78591056872563,
          332.02751382887936,
          359.43480632072453,
          437.8089755710099,
          573.2280602913199,
          797.0923638431877,
          302.7560172790517,
          431.4884679728975,
          270.82770122289634,
          418.6753881011954
         ],
         "yaxis": "y"
        },
        {
         "alignmentgroup": "True",
         "hovertemplate": "Categoría=CARRETERA SIN PAVIMENTO DOS VIAS<br>Cantón=%{x}<br>Longitud de carreteras (km)=%{y}<extra></extra>",
         "legendgroup": "CARRETERA SIN PAVIMENTO DOS VIAS",
         "marker": {
          "color": "#ab63fa",
          "pattern": {
           "shape": ""
          }
         },
         "name": "CARRETERA SIN PAVIMENTO DOS VIAS",
         "offsetgroup": "CARRETERA SIN PAVIMENTO DOS VIAS",
         "orientation": "v",
         "showlegend": true,
         "textposition": "auto",
         "type": "bar",
         "x": [
          "La Cruz",
          "Pococí",
          "Pérez Zeledón",
          "Turrialba",
          "Upala"
         ],
         "xaxis": "x",
         "y": [
          4.302249215041774,
          153.63288124314448,
          14.918530498796784,
          22.05371737941388,
          2.9014410634222285
         ],
         "yaxis": "y"
        }
       ],
       "layout": {
        "autosize": true,
        "barmode": "stack",
        "legend": {
         "title": {
          "text": "Categoría"
         },
         "tracegroupgap": 0
        },
        "template": {
         "data": {
          "bar": [
           {
            "error_x": {
             "color": "#2a3f5f"
            },
            "error_y": {
             "color": "#2a3f5f"
            },
            "marker": {
             "line": {
              "color": "#E5ECF6",
              "width": 0.5
             },
             "pattern": {
              "fillmode": "overlay",
              "size": 10,
              "solidity": 0.2
             }
            },
            "type": "bar"
           }
          ],
          "barpolar": [
           {
            "marker": {
             "line": {
              "color": "#E5ECF6",
              "width": 0.5
             },
             "pattern": {
              "fillmode": "overlay",
              "size": 10,
              "solidity": 0.2
             }
            },
            "type": "barpolar"
           }
          ],
          "carpet": [
           {
            "aaxis": {
             "endlinecolor": "#2a3f5f",
             "gridcolor": "white",
             "linecolor": "white",
             "minorgridcolor": "white",
             "startlinecolor": "#2a3f5f"
            },
            "baxis": {
             "endlinecolor": "#2a3f5f",
             "gridcolor": "white",
             "linecolor": "white",
             "minorgridcolor": "white",
             "startlinecolor": "#2a3f5f"
            },
            "type": "carpet"
           }
          ],
          "choropleth": [
           {
            "colorbar": {
             "outlinewidth": 0,
             "ticks": ""
            },
            "type": "choropleth"
           }
          ],
          "contour": [
           {
            "colorbar": {
             "outlinewidth": 0,
             "ticks": ""
            },
            "colorscale": [
             [
              0,
              "#0d0887"
             ],
             [
              0.1111111111111111,
              "#46039f"
             ],
             [
              0.2222222222222222,
              "#7201a8"
             ],
             [
              0.3333333333333333,
              "#9c179e"
             ],
             [
              0.4444444444444444,
              "#bd3786"
             ],
             [
              0.5555555555555556,
              "#d8576b"
             ],
             [
              0.6666666666666666,
              "#ed7953"
             ],
             [
              0.7777777777777778,
              "#fb9f3a"
             ],
             [
              0.8888888888888888,
              "#fdca26"
             ],
             [
              1,
              "#f0f921"
             ]
            ],
            "type": "contour"
           }
          ],
          "contourcarpet": [
           {
            "colorbar": {
             "outlinewidth": 0,
             "ticks": ""
            },
            "type": "contourcarpet"
           }
          ],
          "heatmap": [
           {
            "colorbar": {
             "outlinewidth": 0,
             "ticks": ""
            },
            "colorscale": [
             [
              0,
              "#0d0887"
             ],
             [
              0.1111111111111111,
              "#46039f"
             ],
             [
              0.2222222222222222,
              "#7201a8"
             ],
             [
              0.3333333333333333,
              "#9c179e"
             ],
             [
              0.4444444444444444,
              "#bd3786"
             ],
             [
              0.5555555555555556,
              "#d8576b"
             ],
             [
              0.6666666666666666,
              "#ed7953"
             ],
             [
              0.7777777777777778,
              "#fb9f3a"
             ],
             [
              0.8888888888888888,
              "#fdca26"
             ],
             [
              1,
              "#f0f921"
             ]
            ],
            "type": "heatmap"
           }
          ],
          "heatmapgl": [
           {
            "colorbar": {
             "outlinewidth": 0,
             "ticks": ""
            },
            "colorscale": [
             [
              0,
              "#0d0887"
             ],
             [
              0.1111111111111111,
              "#46039f"
             ],
             [
              0.2222222222222222,
              "#7201a8"
             ],
             [
              0.3333333333333333,
              "#9c179e"
             ],
             [
              0.4444444444444444,
              "#bd3786"
             ],
             [
              0.5555555555555556,
              "#d8576b"
             ],
             [
              0.6666666666666666,
              "#ed7953"
             ],
             [
              0.7777777777777778,
              "#fb9f3a"
             ],
             [
              0.8888888888888888,
              "#fdca26"
             ],
             [
              1,
              "#f0f921"
             ]
            ],
            "type": "heatmapgl"
           }
          ],
          "histogram": [
           {
            "marker": {
             "pattern": {
              "fillmode": "overlay",
              "size": 10,
              "solidity": 0.2
             }
            },
            "type": "histogram"
           }
          ],
          "histogram2d": [
           {
            "colorbar": {
             "outlinewidth": 0,
             "ticks": ""
            },
            "colorscale": [
             [
              0,
              "#0d0887"
             ],
             [
              0.1111111111111111,
              "#46039f"
             ],
             [
              0.2222222222222222,
              "#7201a8"
             ],
             [
              0.3333333333333333,
              "#9c179e"
             ],
             [
              0.4444444444444444,
              "#bd3786"
             ],
             [
              0.5555555555555556,
              "#d8576b"
             ],
             [
              0.6666666666666666,
              "#ed7953"
             ],
             [
              0.7777777777777778,
              "#fb9f3a"
             ],
             [
              0.8888888888888888,
              "#fdca26"
             ],
             [
              1,
              "#f0f921"
             ]
            ],
            "type": "histogram2d"
           }
          ],
          "histogram2dcontour": [
           {
            "colorbar": {
             "outlinewidth": 0,
             "ticks": ""
            },
            "colorscale": [
             [
              0,
              "#0d0887"
             ],
             [
              0.1111111111111111,
              "#46039f"
             ],
             [
              0.2222222222222222,
              "#7201a8"
             ],
             [
              0.3333333333333333,
              "#9c179e"
             ],
             [
              0.4444444444444444,
              "#bd3786"
             ],
             [
              0.5555555555555556,
              "#d8576b"
             ],
             [
              0.6666666666666666,
              "#ed7953"
             ],
             [
              0.7777777777777778,
              "#fb9f3a"
             ],
             [
              0.8888888888888888,
              "#fdca26"
             ],
             [
              1,
              "#f0f921"
             ]
            ],
            "type": "histogram2dcontour"
           }
          ],
          "mesh3d": [
           {
            "colorbar": {
             "outlinewidth": 0,
             "ticks": ""
            },
            "type": "mesh3d"
           }
          ],
          "parcoords": [
           {
            "line": {
             "colorbar": {
              "outlinewidth": 0,
              "ticks": ""
             }
            },
            "type": "parcoords"
           }
          ],
          "pie": [
           {
            "automargin": true,
            "type": "pie"
           }
          ],
          "scatter": [
           {
            "marker": {
             "colorbar": {
              "outlinewidth": 0,
              "ticks": ""
             }
            },
            "type": "scatter"
           }
          ],
          "scatter3d": [
           {
            "line": {
             "colorbar": {
              "outlinewidth": 0,
              "ticks": ""
             }
            },
            "marker": {
             "colorbar": {
              "outlinewidth": 0,
              "ticks": ""
             }
            },
            "type": "scatter3d"
           }
          ],
          "scattercarpet": [
           {
            "marker": {
             "colorbar": {
              "outlinewidth": 0,
              "ticks": ""
             }
            },
            "type": "scattercarpet"
           }
          ],
          "scattergeo": [
           {
            "marker": {
             "colorbar": {
              "outlinewidth": 0,
              "ticks": ""
             }
            },
            "type": "scattergeo"
           }
          ],
          "scattergl": [
           {
            "marker": {
             "colorbar": {
              "outlinewidth": 0,
              "ticks": ""
             }
            },
            "type": "scattergl"
           }
          ],
          "scattermapbox": [
           {
            "marker": {
             "colorbar": {
              "outlinewidth": 0,
              "ticks": ""
             }
            },
            "type": "scattermapbox"
           }
          ],
          "scatterpolar": [
           {
            "marker": {
             "colorbar": {
              "outlinewidth": 0,
              "ticks": ""
             }
            },
            "type": "scatterpolar"
           }
          ],
          "scatterpolargl": [
           {
            "marker": {
             "colorbar": {
              "outlinewidth": 0,
              "ticks": ""
             }
            },
            "type": "scatterpolargl"
           }
          ],
          "scatterternary": [
           {
            "marker": {
             "colorbar": {
              "outlinewidth": 0,
              "ticks": ""
             }
            },
            "type": "scatterternary"
           }
          ],
          "surface": [
           {
            "colorbar": {
             "outlinewidth": 0,
             "ticks": ""
            },
            "colorscale": [
             [
              0,
              "#0d0887"
             ],
             [
              0.1111111111111111,
              "#46039f"
             ],
             [
              0.2222222222222222,
              "#7201a8"
             ],
             [
              0.3333333333333333,
              "#9c179e"
             ],
             [
              0.4444444444444444,
              "#bd3786"
             ],
             [
              0.5555555555555556,
              "#d8576b"
             ],
             [
              0.6666666666666666,
              "#ed7953"
             ],
             [
              0.7777777777777778,
              "#fb9f3a"
             ],
             [
              0.8888888888888888,
              "#fdca26"
             ],
             [
              1,
              "#f0f921"
             ]
            ],
            "type": "surface"
           }
          ],
          "table": [
           {
            "cells": {
             "fill": {
              "color": "#EBF0F8"
             },
             "line": {
              "color": "white"
             }
            },
            "header": {
             "fill": {
              "color": "#C8D4E3"
             },
             "line": {
              "color": "white"
             }
            },
            "type": "table"
           }
          ]
         },
         "layout": {
          "annotationdefaults": {
           "arrowcolor": "#2a3f5f",
           "arrowhead": 0,
           "arrowwidth": 1
          },
          "autotypenumbers": "strict",
          "coloraxis": {
           "colorbar": {
            "outlinewidth": 0,
            "ticks": ""
           }
          },
          "colorscale": {
           "diverging": [
            [
             0,
             "#8e0152"
            ],
            [
             0.1,
             "#c51b7d"
            ],
            [
             0.2,
             "#de77ae"
            ],
            [
             0.3,
             "#f1b6da"
            ],
            [
             0.4,
             "#fde0ef"
            ],
            [
             0.5,
             "#f7f7f7"
            ],
            [
             0.6,
             "#e6f5d0"
            ],
            [
             0.7,
             "#b8e186"
            ],
            [
             0.8,
             "#7fbc41"
            ],
            [
             0.9,
             "#4d9221"
            ],
            [
             1,
             "#276419"
            ]
           ],
           "sequential": [
            [
             0,
             "#0d0887"
            ],
            [
             0.1111111111111111,
             "#46039f"
            ],
            [
             0.2222222222222222,
             "#7201a8"
            ],
            [
             0.3333333333333333,
             "#9c179e"
            ],
            [
             0.4444444444444444,
             "#bd3786"
            ],
            [
             0.5555555555555556,
             "#d8576b"
            ],
            [
             0.6666666666666666,
             "#ed7953"
            ],
            [
             0.7777777777777778,
             "#fb9f3a"
            ],
            [
             0.8888888888888888,
             "#fdca26"
            ],
            [
             1,
             "#f0f921"
            ]
           ],
           "sequentialminus": [
            [
             0,
             "#0d0887"
            ],
            [
             0.1111111111111111,
             "#46039f"
            ],
            [
             0.2222222222222222,
             "#7201a8"
            ],
            [
             0.3333333333333333,
             "#9c179e"
            ],
            [
             0.4444444444444444,
             "#bd3786"
            ],
            [
             0.5555555555555556,
             "#d8576b"
            ],
            [
             0.6666666666666666,
             "#ed7953"
            ],
            [
             0.7777777777777778,
             "#fb9f3a"
            ],
            [
             0.8888888888888888,
             "#fdca26"
            ],
            [
             1,
             "#f0f921"
            ]
           ]
          },
          "colorway": [
           "#636efa",
           "#EF553B",
           "#00cc96",
           "#ab63fa",
           "#FFA15A",
           "#19d3f3",
           "#FF6692",
           "#B6E880",
           "#FF97FF",
           "#FECB52"
          ],
          "font": {
           "color": "#2a3f5f"
          },
          "geo": {
           "bgcolor": "white",
           "lakecolor": "white",
           "landcolor": "#E5ECF6",
           "showlakes": true,
           "showland": true,
           "subunitcolor": "white"
          },
          "hoverlabel": {
           "align": "left"
          },
          "hovermode": "closest",
          "mapbox": {
           "style": "light"
          },
          "paper_bgcolor": "white",
          "plot_bgcolor": "#E5ECF6",
          "polar": {
           "angularaxis": {
            "gridcolor": "white",
            "linecolor": "white",
            "ticks": ""
           },
           "bgcolor": "#E5ECF6",
           "radialaxis": {
            "gridcolor": "white",
            "linecolor": "white",
            "ticks": ""
           }
          },
          "scene": {
           "xaxis": {
            "backgroundcolor": "#E5ECF6",
            "gridcolor": "white",
            "gridwidth": 2,
            "linecolor": "white",
            "showbackground": true,
            "ticks": "",
            "zerolinecolor": "white"
           },
           "yaxis": {
            "backgroundcolor": "#E5ECF6",
            "gridcolor": "white",
            "gridwidth": 2,
            "linecolor": "white",
            "showbackground": true,
            "ticks": "",
            "zerolinecolor": "white"
           },
           "zaxis": {
            "backgroundcolor": "#E5ECF6",
            "gridcolor": "white",
            "gridwidth": 2,
            "linecolor": "white",
            "showbackground": true,
            "ticks": "",
            "zerolinecolor": "white"
           }
          },
          "shapedefaults": {
           "line": {
            "color": "#2a3f5f"
           }
          },
          "ternary": {
           "aaxis": {
            "gridcolor": "white",
            "linecolor": "white",
            "ticks": ""
           },
           "baxis": {
            "gridcolor": "white",
            "linecolor": "white",
            "ticks": ""
           },
           "bgcolor": "#E5ECF6",
           "caxis": {
            "gridcolor": "white",
            "linecolor": "white",
            "ticks": ""
           }
          },
          "title": {
           "x": 0.05
          },
          "xaxis": {
           "automargin": true,
           "gridcolor": "white",
           "linecolor": "white",
           "ticks": "",
           "title": {
            "standoff": 15
           },
           "zerolinecolor": "white",
           "zerolinewidth": 2
          },
          "yaxis": {
           "automargin": true,
           "gridcolor": "white",
           "linecolor": "white",
           "ticks": "",
           "title": {
            "standoff": 15
           },
           "zerolinecolor": "white",
           "zerolinewidth": 2
          }
         }
        },
        "title": {
         "text": "Tipos de carretera en los 15 cantones con mayor longitud vial"
        },
        "xaxis": {
         "anchor": "y",
         "autorange": true,
         "categoryarray": [
          "San Carlos",
          "Pérez Zeledón",
          "Puntarenas",
          "Buenos Aires",
          "Sarapiquí",
          "Liberia",
          "Pococí",
          "Nicoya",
          "Santa Cruz",
          "Bagaces",
          "Los Chiles",
          "Upala",
          "Coto Brus",
          "La Cruz",
          "Turrialba"
         ],
         "categoryorder": "array",
         "domain": [
          0,
          1
         ],
         "range": [
          -0.5,
          14.5
         ],
         "title": {
          "text": "Cantón"
         },
         "type": "category"
        },
        "yaxis": {
         "anchor": "x",
         "autorange": true,
         "domain": [
          0,
          1
         ],
         "range": [
          0,
          2727.431699336483
         ],
         "title": {
          "text": "Longitud de carreteras (km)"
         },
         "type": "linear"
        }
       }
      },
      "image/png": "[encoded data removed]",
      "text/html": [
       "<div>                            <div id=\"1e73958d-5348-4831-83f4-e6fe6e0779db\" class=\"plotly-graph-div\" style=\"height:525px; width:100%;\"></div>            <script type=\"text/javascript\">                require([\"plotly\"], function(Plotly) {                    window.PLOTLYENV=window.PLOTLYENV || {};                                    if (document.getElementById(\"1e73958d-5348-4831-83f4-e6fe6e0779db\")) {                    Plotly.newPlot(                        \"1e73958d-5348-4831-83f4-e6fe6e0779db\",                        [{\"alignmentgroup\":\"True\",\"hovertemplate\":\"Categor\\u00eda=CAMINO DE TIERRA<br>Cant\\u00f3n=%{x}<br>Longitud de carreteras (km)=%{y}<extra></extra>\",\"legendgroup\":\"CAMINO DE TIERRA\",\"marker\":{\"color\":\"#636efa\",\"pattern\":{\"shape\":\"\"}},\"name\":\"CAMINO DE TIERRA\",\"offsetgroup\":\"CAMINO DE TIERRA\",\"orientation\":\"v\",\"showlegend\":true,\"textposition\":\"auto\",\"type\":\"bar\",\"x\":[\"Bagaces\",\"Buenos Aires\",\"Coto Brus\",\"La Cruz\",\"Liberia\",\"Los Chiles\",\"Nicoya\",\"Pococ\\u00ed\",\"Puntarenas\",\"P\\u00e9rez Zeled\\u00f3n\",\"San Carlos\",\"Santa Cruz\",\"Sarapiqu\\u00ed\",\"Turrialba\",\"Upala\"],\"xaxis\":\"x\",\"y\":[676.1364668846093,691.7324350613314,269.0822111547744,535.0938166645096,751.6908520822412,433.72937131691765,629.4930971098435,412.3928792593075,930.3538496636717,524.6636911845733,1681.4851797248255,662.4225932086114,561.1477735514204,251.6198737337368,339.2873846516424],\"yaxis\":\"y\"},{\"alignmentgroup\":\"True\",\"hovertemplate\":\"Categor\\u00eda=CARRETERA PAVIMENTO DOS VIAS O MAS<br>Cant\\u00f3n=%{x}<br>Longitud de carreteras (km)=%{y}<extra></extra>\",\"legendgroup\":\"CARRETERA PAVIMENTO DOS VIAS O MAS\",\"marker\":{\"color\":\"#EF553B\",\"pattern\":{\"shape\":\"\"}},\"name\":\"CARRETERA PAVIMENTO DOS VIAS O MAS\",\"offsetgroup\":\"CARRETERA PAVIMENTO DOS VIAS O MAS\",\"orientation\":\"v\",\"showlegend\":true,\"textposition\":\"auto\",\"type\":\"bar\",\"x\":[\"Bagaces\",\"Buenos Aires\",\"Coto Brus\",\"La Cruz\",\"Liberia\",\"Los Chiles\",\"Nicoya\",\"Pococ\\u00ed\",\"P\\u00e9rez Zeled\\u00f3n\",\"San Carlos\",\"Sarapiqu\\u00ed\",\"Turrialba\",\"Upala\"],\"xaxis\":\"x\",\"y\":[29.01214789702238,170.93028052228806,108.7594577977544,46.0754734962377,39.948296044112354,114.47162754594385,20.65773032570861,132.56098359671793,316.75035588834305,112.48257080164515,110.7175938188873,143.58280285456865,9.263710168357427],\"yaxis\":\"y\"},{\"alignmentgroup\":\"True\",\"hovertemplate\":\"Categor\\u00eda=CARRETERA PAVIMENTO UNA VIA<br>Cant\\u00f3n=%{x}<br>Longitud de carreteras (km)=%{y}<extra></extra>\",\"legendgroup\":\"CARRETERA PAVIMENTO UNA VIA\",\"marker\":{\"color\":\"#00cc96\",\"pattern\":{\"shape\":\"\"}},\"name\":\"CARRETERA PAVIMENTO UNA VIA\",\"offsetgroup\":\"CARRETERA PAVIMENTO UNA VIA\",\"orientation\":\"v\",\"showlegend\":true,\"textposition\":\"auto\",\"type\":\"bar\",\"x\":[\"Bagaces\",\"Buenos Aires\",\"Coto Brus\",\"La Cruz\",\"Liberia\",\"Los Chiles\",\"Nicoya\",\"Pococ\\u00ed\",\"Puntarenas\",\"P\\u00e9rez Zeled\\u00f3n\",\"San Carlos\",\"Santa Cruz\",\"Sarapiqu\\u00ed\",\"Turrialba\",\"Upala\"],\"xaxis\":\"x\",\"y\":[142.39206885055916,434.4232558959343,369.6108813343932,128.664396445904,278.8039292085579,228.78591056872563,332.02751382887936,359.43480632072453,437.8089755710099,573.2280602913199,797.0923638431877,302.7560172790517,431.4884679728975,270.82770122289634,418.6753881011954],\"yaxis\":\"y\"},{\"alignmentgroup\":\"True\",\"hovertemplate\":\"Categor\\u00eda=CARRETERA SIN PAVIMENTO DOS VIAS<br>Cant\\u00f3n=%{x}<br>Longitud de carreteras (km)=%{y}<extra></extra>\",\"legendgroup\":\"CARRETERA SIN PAVIMENTO DOS VIAS\",\"marker\":{\"color\":\"#ab63fa\",\"pattern\":{\"shape\":\"\"}},\"name\":\"CARRETERA SIN PAVIMENTO DOS VIAS\",\"offsetgroup\":\"CARRETERA SIN PAVIMENTO DOS VIAS\",\"orientation\":\"v\",\"showlegend\":true,\"textposition\":\"auto\",\"type\":\"bar\",\"x\":[\"La Cruz\",\"Pococ\\u00ed\",\"P\\u00e9rez Zeled\\u00f3n\",\"Turrialba\",\"Upala\"],\"xaxis\":\"x\",\"y\":[4.302249215041774,153.63288124314448,14.918530498796784,22.05371737941388,2.9014410634222285],\"yaxis\":\"y\"}],                        {\"barmode\":\"stack\",\"legend\":{\"title\":{\"text\":\"Categor\\u00eda\"},\"tracegroupgap\":0},\"template\":{\"data\":{\"bar\":[{\"error_x\":{\"color\":\"#2a3f5f\"},\"error_y\":{\"color\":\"#2a3f5f\"},\"marker\":{\"line\":{\"color\":\"#E5ECF6\",\"width\":0.5},\"pattern\":{\"fillmode\":\"overlay\",\"size\":10,\"solidity\":0.2}},\"type\":\"bar\"}],\"barpolar\":[{\"marker\":{\"line\":{\"color\":\"#E5ECF6\",\"width\":0.5},\"pattern\":{\"fillmode\":\"overlay\",\"size\":10,\"solidity\":0.2}},\"type\":\"barpolar\"}],\"carpet\":[{\"aaxis\":{\"endlinecolor\":\"#2a3f5f\",\"gridcolor\":\"white\",\"linecolor\":\"white\",\"minorgridcolor\":\"white\",\"startlinecolor\":\"#2a3f5f\"},\"baxis\":{\"endlinecolor\":\"#2a3f5f\",\"gridcolor\":\"white\",\"linecolor\":\"white\",\"minorgridcolor\":\"white\",\"startlinecolor\":\"#2a3f5f\"},\"type\":\"carpet\"}],\"choropleth\":[{\"colorbar\":{\"outlinewidth\":0,\"ticks\":\"\"},\"type\":\"choropleth\"}],\"contour\":[{\"colorbar\":{\"outlinewidth\":0,\"ticks\":\"\"},\"colorscale\":[[0.0,\"#0d0887\"],[0.1111111111111111,\"#46039f\"],[0.2222222222222222,\"#7201a8\"],[0.3333333333333333,\"#9c179e\"],[0.4444444444444444,\"#bd3786\"],[0.5555555555555556,\"#d8576b\"],[0.6666666666666666,\"#ed7953\"],[0.7777777777777778,\"#fb9f3a\"],[0.8888888888888888,\"#fdca26\"],[1.0,\"#f0f921\"]],\"type\":\"contour\"}],\"contourcarpet\":[{\"colorbar\":{\"outlinewidth\":0,\"ticks\":\"\"},\"type\":\"contourcarpet\"}],\"heatmap\":[{\"colorbar\":{\"outlinewidth\":0,\"ticks\":\"\"},\"colorscale\":[[0.0,\"#0d0887\"],[0.1111111111111111,\"#46039f\"],[0.2222222222222222,\"#7201a8\"],[0.3333333333333333,\"#9c179e\"],[0.4444444444444444,\"#bd3786\"],[0.5555555555555556,\"#d8576b\"],[0.6666666666666666,\"#ed7953\"],[0.7777777777777778,\"#fb9f3a\"],[0.8888888888888888,\"#fdca26\"],[1.0,\"#f0f921\"]],\"type\":\"heatmap\"}],\"heatmapgl\":[{\"colorbar\":{\"outlinewidth\":0,\"ticks\":\"\"},\"colorscale\":[[0.0,\"#0d0887\"],[0.1111111111111111,\"#46039f\"],[0.2222222222222222,\"#7201a8\"],[0.3333333333333333,\"#9c179e\"],[0.4444444444444444,\"#bd3786\"],[0.5555555555555556,\"#d8576b\"],[0.6666666666666666,\"#ed7953\"],[0.7777777777777778,\"#fb9f3a\"],[0.8888888888888888,\"#fdca26\"],[1.0,\"#f0f921\"]],\"type\":\"heatmapgl\"}],\"histogram\":[{\"marker\":{\"pattern\":{\"fillmode\":\"overlay\",\"size\":10,\"solidity\":0.2}},\"type\":\"histogram\"}],\"histogram2d\":[{\"colorbar\":{\"outlinewidth\":0,\"ticks\":\"\"},\"colorscale\":[[0.0,\"#0d0887\"],[0.1111111111111111,\"#46039f\"],[0.2222222222222222,\"#7201a8\"],[0.3333333333333333,\"#9c179e\"],[0.4444444444444444,\"#bd3786\"],[0.5555555555555556,\"#d8576b\"],[0.6666666666666666,\"#ed7953\"],[0.7777777777777778,\"#fb9f3a\"],[0.8888888888888888,\"#fdca26\"],[1.0,\"#f0f921\"]],\"type\":\"histogram2d\"}],\"histogram2dcontour\":[{\"colorbar\":{\"outlinewidth\":0,\"ticks\":\"\"},\"colorscale\":[[0.0,\"#0d0887\"],[0.1111111111111111,\"#46039f\"],[0.2222222222222222,\"#7201a8\"],[0.3333333333333333,\"#9c179e\"],[0.4444444444444444,\"#bd3786\"],[0.5555555555555556,\"#d8576b\"],[0.6666666666666666,\"#ed7953\"],[0.7777777777777778,\"#fb9f3a\"],[0.8888888888888888,\"#fdca26\"],[1.0,\"#f0f921\"]],\"type\":\"histogram2dcontour\"}],\"mesh3d\":[{\"colorbar\":{\"outlinewidth\":0,\"ticks\":\"\"},\"type\":\"mesh3d\"}],\"parcoords\":[{\"line\":{\"colorbar\":{\"outlinewidth\":0,\"ticks\":\"\"}},\"type\":\"parcoords\"}],\"pie\":[{\"automargin\":true,\"type\":\"pie\"}],\"scatter\":[{\"marker\":{\"colorbar\":{\"outlinewidth\":0,\"ticks\":\"\"}},\"type\":\"scatter\"}],\"scatter3d\":[{\"line\":{\"colorbar\":{\"outlinewidth\":0,\"ticks\":\"\"}},\"marker\":{\"colorbar\":{\"outlinewidth\":0,\"ticks\":\"\"}},\"type\":\"scatter3d\"}],\"scattercarpet\":[{\"marker\":{\"colorbar\":{\"outlinewidth\":0,\"ticks\":\"\"}},\"type\":\"scattercarpet\"}],\"scattergeo\":[{\"marker\":{\"colorbar\":{\"outlinewidth\":0,\"ticks\":\"\"}},\"type\":\"scattergeo\"}],\"scattergl\":[{\"marker\":{\"colorbar\":{\"outlinewidth\":0,\"ticks\":\"\"}},\"type\":\"scattergl\"}],\"scattermapbox\":[{\"marker\":{\"colorbar\":{\"outlinewidth\":0,\"ticks\":\"\"}},\"type\":\"scattermapbox\"}],\"scatterpolar\":[{\"marker\":{\"colorbar\":{\"outlinewidth\":0,\"ticks\":\"\"}},\"type\":\"scatterpolar\"}],\"scatterpolargl\":[{\"marker\":{\"colorbar\":{\"outlinewidth\":0,\"ticks\":\"\"}},\"type\":\"scatterpolargl\"}],\"scatterternary\":[{\"marker\":{\"colorbar\":{\"outlinewidth\":0,\"ticks\":\"\"}},\"type\":\"scatterternary\"}],\"surface\":[{\"colorbar\":{\"outlinewidth\":0,\"ticks\":\"\"},\"colorscale\":[[0.0,\"#0d0887\"],[0.1111111111111111,\"#46039f\"],[0.2222222222222222,\"#7201a8\"],[0.3333333333333333,\"#9c179e\"],[0.4444444444444444,\"#bd3786\"],[0.5555555555555556,\"#d8576b\"],[0.6666666666666666,\"#ed7953\"],[0.7777777777777778,\"#fb9f3a\"],[0.8888888888888888,\"#fdca26\"],[1.0,\"#f0f921\"]],\"type\":\"surface\"}],\"table\":[{\"cells\":{\"fill\":{\"color\":\"#EBF0F8\"},\"line\":{\"color\":\"white\"}},\"header\":{\"fill\":{\"color\":\"#C8D4E3\"},\"line\":{\"color\":\"white\"}},\"type\":\"table\"}]},\"layout\":{\"annotationdefaults\":{\"arrowcolor\":\"#2a3f5f\",\"arrowhead\":0,\"arrowwidth\":1},\"autotypenumbers\":\"strict\",\"coloraxis\":{\"colorbar\":{\"outlinewidth\":0,\"ticks\":\"\"}},\"colorscale\":{\"diverging\":[[0,\"#8e0152\"],[0.1,\"#c51b7d\"],[0.2,\"#de77ae\"],[0.3,\"#f1b6da\"],[0.4,\"#fde0ef\"],[0.5,\"#f7f7f7\"],[0.6,\"#e6f5d0\"],[0.7,\"#b8e186\"],[0.8,\"#7fbc41\"],[0.9,\"#4d9221\"],[1,\"#276419\"]],\"sequential\":[[0.0,\"#0d0887\"],[0.1111111111111111,\"#46039f\"],[0.2222222222222222,\"#7201a8\"],[0.3333333333333333,\"#9c179e\"],[0.4444444444444444,\"#bd3786\"],[0.5555555555555556,\"#d8576b\"],[0.6666666666666666,\"#ed7953\"],[0.7777777777777778,\"#fb9f3a\"],[0.8888888888888888,\"#fdca26\"],[1.0,\"#f0f921\"]],\"sequentialminus\":[[0.0,\"#0d0887\"],[0.1111111111111111,\"#46039f\"],[0.2222222222222222,\"#7201a8\"],[0.3333333333333333,\"#9c179e\"],[0.4444444444444444,\"#bd3786\"],[0.5555555555555556,\"#d8576b\"],[0.6666666666666666,\"#ed7953\"],[0.7777777777777778,\"#fb9f3a\"],[0.8888888888888888,\"#fdca26\"],[1.0,\"#f0f921\"]]},\"colorway\":[\"#636efa\",\"#EF553B\",\"#00cc96\",\"#ab63fa\",\"#FFA15A\",\"#19d3f3\",\"#FF6692\",\"#B6E880\",\"#FF97FF\",\"#FECB52\"],\"font\":{\"color\":\"#2a3f5f\"},\"geo\":{\"bgcolor\":\"white\",\"lakecolor\":\"white\",\"landcolor\":\"#E5ECF6\",\"showlakes\":true,\"showland\":true,\"subunitcolor\":\"white\"},\"hoverlabel\":{\"align\":\"left\"},\"hovermode\":\"closest\",\"mapbox\":{\"style\":\"light\"},\"paper_bgcolor\":\"white\",\"plot_bgcolor\":\"#E5ECF6\",\"polar\":{\"angularaxis\":{\"gridcolor\":\"white\",\"linecolor\":\"white\",\"ticks\":\"\"},\"bgcolor\":\"#E5ECF6\",\"radialaxis\":{\"gridcolor\":\"white\",\"linecolor\":\"white\",\"ticks\":\"\"}},\"scene\":{\"xaxis\":{\"backgroundcolor\":\"#E5ECF6\",\"gridcolor\":\"white\",\"gridwidth\":2,\"linecolor\":\"white\",\"showbackground\":true,\"ticks\":\"\",\"zerolinecolor\":\"white\"},\"yaxis\":{\"backgroundcolor\":\"#E5ECF6\",\"gridcolor\":\"white\",\"gridwidth\":2,\"linecolor\":\"white\",\"showbackground\":true,\"ticks\":\"\",\"zerolinecolor\":\"white\"},\"zaxis\":{\"backgroundcolor\":\"#E5ECF6\",\"gridcolor\":\"white\",\"gridwidth\":2,\"linecolor\":\"white\",\"showbackground\":true,\"ticks\":\"\",\"zerolinecolor\":\"white\"}},\"shapedefaults\":{\"line\":{\"color\":\"#2a3f5f\"}},\"ternary\":{\"aaxis\":{\"gridcolor\":\"white\",\"linecolor\":\"white\",\"ticks\":\"\"},\"baxis\":{\"gridcolor\":\"white\",\"linecolor\":\"white\",\"ticks\":\"\"},\"bgcolor\":\"#E5ECF6\",\"caxis\":{\"gridcolor\":\"white\",\"linecolor\":\"white\",\"ticks\":\"\"}},\"title\":{\"x\":0.05},\"xaxis\":{\"automargin\":true,\"gridcolor\":\"white\",\"linecolor\":\"white\",\"ticks\":\"\",\"title\":{\"standoff\":15},\"zerolinecolor\":\"white\",\"zerolinewidth\":2},\"yaxis\":{\"automargin\":true,\"gridcolor\":\"white\",\"linecolor\":\"white\",\"ticks\":\"\",\"title\":{\"standoff\":15},\"zerolinecolor\":\"white\",\"zerolinewidth\":2}}},\"title\":{\"text\":\"Tipos de carretera en los 15 cantones con mayor longitud vial\"},\"xaxis\":{\"anchor\":\"y\",\"categoryarray\":[\"San Carlos\",\"P\\u00e9rez Zeled\\u00f3n\",\"Puntarenas\",\"Buenos Aires\",\"Sarapiqu\\u00ed\",\"Liberia\",\"Pococ\\u00ed\",\"Nicoya\",\"Santa Cruz\",\"Bagaces\",\"Los Chiles\",\"Upala\",\"Coto Brus\",\"La Cruz\",\"Turrialba\"],\"categoryorder\":\"array\",\"domain\":[0.0,1.0],\"title\":{\"text\":\"Cant\\u00f3n\"}},\"yaxis\":{\"anchor\":\"x\",\"domain\":[0.0,1.0],\"title\":{\"text\":\"Longitud de carreteras (km)\"}}},                        {\"responsive\": true}                    ).then(function(){\n",
       "                            \n",
       "var gd = document.getElementById('1e73958d-5348-4831-83f4-e6fe6e0779db');\n",
       "var x = new MutationObserver(function (mutations, observer) {{\n",
       "        var display = window.getComputedStyle(gd).display;\n",
       "        if (!display || display === 'none') {{\n",
       "            console.log([gd, 'removed!']);\n",
       "            Plotly.purge(gd);\n",
       "            observer.disconnect();\n",
       "        }}\n",
       "}});\n",
       "\n",
       "// Listen for the removal of the full notebook cells\n",
       "var notebookContainer = gd.closest('#notebook-container');\n",
       "if (notebookContainer) {{\n",
       "    x.observe(notebookContainer, {childList: true});\n",
       "}}\n",
       "\n",
       "// Listen for the clearing of the current output cell\n",
       "var outputEl = gd.closest('.output');\n",
       "if (outputEl) {{\n",
       "    x.observe(outputEl, {childList: true});\n",
       "}}\n",
       "\n",
       "                        })                };                });            </script>        </div>"
      ]
     },
     "metadata": {},
     "output_type": "display_data"
    }
   ],
   "source": [
    "fig = px.bar(top_15_longitud_graficar, \n",
    "             x=\"canton\", \n",
    "             y=\"longitud_km\", \n",
    "             color=\"categoria\",\n",
    "             labels={\n",
    "                 'canton': 'Cantón',\n",
    "                 'longitud_km': 'Longitud de carreteras (km)',\n",
    "                 'categoria': 'Categoría'\n",
    "             },\n",
    "             title=\"Tipos de carretera en los 15 cantones con mayor longitud vial\")\n",
    "\n",
    "fig.update_layout(barmode='stack', \n",
    "                  xaxis={'categoryorder':'array', \n",
    "                         'categoryarray':top_15_longitud.canton.to_list() # para ordenar. Cantones con más carreteras van primero\n",
    "                        }\n",
    "                 )\n",
    "fig.show()"
   ]
  },
  {
   "cell_type": "markdown",
   "id": "5f75c812-cd4b-4cb8-9e22-e7c34214c7fc",
   "metadata": {},
   "source": [
    "## Un gráfico plotly de pastel que muestre el porcentaje de red vial de los 15 cantones de mayor longitud total de la red vial, con respecto a la longitud de la red vial en todo el país."
   ]
  },
  {
   "cell_type": "code",
   "execution_count": 40,
   "id": "e07010b7-a341-4489-bb6d-57a291705d53",
   "metadata": {},
   "outputs": [
    {
     "data": {
      "text/html": [
       "<div>\n",
       "<style scoped>\n",
       "    .dataframe tbody tr th:only-of-type {\n",
       "        vertical-align: middle;\n",
       "    }\n",
       "\n",
       "    .dataframe tbody tr th {\n",
       "        vertical-align: top;\n",
       "    }\n",
       "\n",
       "    .dataframe thead th {\n",
       "        text-align: right;\n",
       "    }\n",
       "</style>\n",
       "<table border=\"1\" class=\"dataframe\">\n",
       "  <thead>\n",
       "    <tr style=\"text-align: right;\">\n",
       "      <th></th>\n",
       "      <th>canton</th>\n",
       "      <th>longitud_km</th>\n",
       "    </tr>\n",
       "  </thead>\n",
       "  <tbody>\n",
       "    <tr>\n",
       "      <th>0</th>\n",
       "      <td>Bagaces</td>\n",
       "      <td>847.540684</td>\n",
       "    </tr>\n",
       "    <tr>\n",
       "      <th>1</th>\n",
       "      <td>Buenos Aires</td>\n",
       "      <td>1297.085971</td>\n",
       "    </tr>\n",
       "    <tr>\n",
       "      <th>2</th>\n",
       "      <td>Coto Brus</td>\n",
       "      <td>747.452550</td>\n",
       "    </tr>\n",
       "    <tr>\n",
       "      <th>3</th>\n",
       "      <td>La Cruz</td>\n",
       "      <td>714.135936</td>\n",
       "    </tr>\n",
       "    <tr>\n",
       "      <th>4</th>\n",
       "      <td>Liberia</td>\n",
       "      <td>1070.443077</td>\n",
       "    </tr>\n",
       "    <tr>\n",
       "      <th>5</th>\n",
       "      <td>Los Chiles</td>\n",
       "      <td>776.986909</td>\n",
       "    </tr>\n",
       "    <tr>\n",
       "      <th>6</th>\n",
       "      <td>Nicoya</td>\n",
       "      <td>982.178341</td>\n",
       "    </tr>\n",
       "    <tr>\n",
       "      <th>7</th>\n",
       "      <td>Pococí</td>\n",
       "      <td>1058.021550</td>\n",
       "    </tr>\n",
       "    <tr>\n",
       "      <th>8</th>\n",
       "      <td>Puntarenas</td>\n",
       "      <td>1368.162825</td>\n",
       "    </tr>\n",
       "    <tr>\n",
       "      <th>9</th>\n",
       "      <td>Pérez Zeledón</td>\n",
       "      <td>1429.560638</td>\n",
       "    </tr>\n",
       "    <tr>\n",
       "      <th>10</th>\n",
       "      <td>San Carlos</td>\n",
       "      <td>2591.060114</td>\n",
       "    </tr>\n",
       "    <tr>\n",
       "      <th>11</th>\n",
       "      <td>Santa Cruz</td>\n",
       "      <td>965.178610</td>\n",
       "    </tr>\n",
       "    <tr>\n",
       "      <th>12</th>\n",
       "      <td>Sarapiquí</td>\n",
       "      <td>1103.353835</td>\n",
       "    </tr>\n",
       "    <tr>\n",
       "      <th>13</th>\n",
       "      <td>Turrialba</td>\n",
       "      <td>688.084095</td>\n",
       "    </tr>\n",
       "    <tr>\n",
       "      <th>14</th>\n",
       "      <td>Upala</td>\n",
       "      <td>770.127924</td>\n",
       "    </tr>\n",
       "  </tbody>\n",
       "</table>\n",
       "</div>"
      ],
      "text/plain": [
       "           canton  longitud_km\n",
       "0         Bagaces   847.540684\n",
       "1    Buenos Aires  1297.085971\n",
       "2       Coto Brus   747.452550\n",
       "3         La Cruz   714.135936\n",
       "4         Liberia  1070.443077\n",
       "5      Los Chiles   776.986909\n",
       "6          Nicoya   982.178341\n",
       "7          Pococí  1058.021550\n",
       "8      Puntarenas  1368.162825\n",
       "9   Pérez Zeledón  1429.560638\n",
       "10     San Carlos  2591.060114\n",
       "11     Santa Cruz   965.178610\n",
       "12      Sarapiquí  1103.353835\n",
       "13      Turrialba   688.084095\n",
       "14          Upala   770.127924"
      ]
     },
     "execution_count": 40,
     "metadata": {},
     "output_type": "execute_result"
    }
   ],
   "source": [
    "top_15_pastel = top_15_longitud_graficar[['canton', 'longitud_km']].groupby('canton').sum().reset_index()\n",
    "top_15_pastel"
   ]
  },
  {
   "cell_type": "code",
   "execution_count": 21,
   "id": "43f51e8d-86f0-4f14-811e-15e3cf73b324",
   "metadata": {},
   "outputs": [
    {
     "data": {
      "text/html": [
       "<div>\n",
       "<style scoped>\n",
       "    .dataframe tbody tr th:only-of-type {\n",
       "        vertical-align: middle;\n",
       "    }\n",
       "\n",
       "    .dataframe tbody tr th {\n",
       "        vertical-align: top;\n",
       "    }\n",
       "\n",
       "    .dataframe thead th {\n",
       "        text-align: right;\n",
       "    }\n",
       "</style>\n",
       "<table border=\"1\" class=\"dataframe\">\n",
       "  <thead>\n",
       "    <tr style=\"text-align: right;\">\n",
       "      <th></th>\n",
       "      <th>canton</th>\n",
       "      <th>categoria</th>\n",
       "      <th>longitud_km</th>\n",
       "    </tr>\n",
       "  </thead>\n",
       "  <tbody>\n",
       "    <tr>\n",
       "      <th>0</th>\n",
       "      <td>Abangares</td>\n",
       "      <td>CAMINO DE TIERRA</td>\n",
       "      <td>331.974330</td>\n",
       "    </tr>\n",
       "    <tr>\n",
       "      <th>1</th>\n",
       "      <td>Abangares</td>\n",
       "      <td>CARRETERA PAVIMENTO DOS VIAS O MAS</td>\n",
       "      <td>27.801803</td>\n",
       "    </tr>\n",
       "    <tr>\n",
       "      <th>2</th>\n",
       "      <td>Abangares</td>\n",
       "      <td>CARRETERA PAVIMENTO UNA VIA</td>\n",
       "      <td>166.542215</td>\n",
       "    </tr>\n",
       "    <tr>\n",
       "      <th>3</th>\n",
       "      <td>Acosta</td>\n",
       "      <td>CAMINO DE TIERRA</td>\n",
       "      <td>134.985538</td>\n",
       "    </tr>\n",
       "    <tr>\n",
       "      <th>4</th>\n",
       "      <td>Acosta</td>\n",
       "      <td>CARRETERA PAVIMENTO DOS VIAS O MAS</td>\n",
       "      <td>61.873510</td>\n",
       "    </tr>\n",
       "    <tr>\n",
       "      <th>...</th>\n",
       "      <td>...</td>\n",
       "      <td>...</td>\n",
       "      <td>...</td>\n",
       "    </tr>\n",
       "    <tr>\n",
       "      <th>261</th>\n",
       "      <td>Vázquez de Coronado</td>\n",
       "      <td>CARRETERA PAVIMENTO DOS VIAS O MAS</td>\n",
       "      <td>39.489168</td>\n",
       "    </tr>\n",
       "    <tr>\n",
       "      <th>262</th>\n",
       "      <td>Vázquez de Coronado</td>\n",
       "      <td>CARRETERA PAVIMENTO UNA VIA</td>\n",
       "      <td>52.697501</td>\n",
       "    </tr>\n",
       "    <tr>\n",
       "      <th>263</th>\n",
       "      <td>Zarcero</td>\n",
       "      <td>CAMINO DE TIERRA</td>\n",
       "      <td>33.100991</td>\n",
       "    </tr>\n",
       "    <tr>\n",
       "      <th>264</th>\n",
       "      <td>Zarcero</td>\n",
       "      <td>CARRETERA PAVIMENTO DOS VIAS O MAS</td>\n",
       "      <td>13.691175</td>\n",
       "    </tr>\n",
       "    <tr>\n",
       "      <th>265</th>\n",
       "      <td>Zarcero</td>\n",
       "      <td>CARRETERA PAVIMENTO UNA VIA</td>\n",
       "      <td>96.592850</td>\n",
       "    </tr>\n",
       "  </tbody>\n",
       "</table>\n",
       "<p>218 rows × 3 columns</p>\n",
       "</div>"
      ],
      "text/plain": [
       "                  canton                           categoria  longitud_km\n",
       "0              Abangares                    CAMINO DE TIERRA   331.974330\n",
       "1              Abangares  CARRETERA PAVIMENTO DOS VIAS O MAS    27.801803\n",
       "2              Abangares         CARRETERA PAVIMENTO UNA VIA   166.542215\n",
       "3                 Acosta                    CAMINO DE TIERRA   134.985538\n",
       "4                 Acosta  CARRETERA PAVIMENTO DOS VIAS O MAS    61.873510\n",
       "..                   ...                                 ...          ...\n",
       "261  Vázquez de Coronado  CARRETERA PAVIMENTO DOS VIAS O MAS    39.489168\n",
       "262  Vázquez de Coronado         CARRETERA PAVIMENTO UNA VIA    52.697501\n",
       "263              Zarcero                    CAMINO DE TIERRA    33.100991\n",
       "264              Zarcero  CARRETERA PAVIMENTO DOS VIAS O MAS    13.691175\n",
       "265              Zarcero         CARRETERA PAVIMENTO UNA VIA    96.592850\n",
       "\n",
       "[218 rows x 3 columns]"
      ]
     },
     "execution_count": 21,
     "metadata": {},
     "output_type": "execute_result"
    }
   ],
   "source": [
    "otros_cantones = metricas_canton_categoria[~metricas_canton_categoria.canton.isin(top_15)]\n",
    "otros_cantones"
   ]
  },
  {
   "cell_type": "code",
   "execution_count": 22,
   "id": "5e8ac077-a5b7-4fc3-8239-1c6a20a62bc3",
   "metadata": {},
   "outputs": [
    {
     "data": {
      "text/plain": [
       "15605.360957067956"
      ]
     },
     "execution_count": 22,
     "metadata": {},
     "output_type": "execute_result"
    }
   ],
   "source": [
    "long = otros_cantones.longitud_km.sum()\n",
    "long"
   ]
  },
  {
   "cell_type": "code",
   "execution_count": 41,
   "id": "c1235bdc-6916-44fd-8c2e-97b592c2767d",
   "metadata": {},
   "outputs": [
    {
     "data": {
      "text/html": [
       "<div>\n",
       "<style scoped>\n",
       "    .dataframe tbody tr th:only-of-type {\n",
       "        vertical-align: middle;\n",
       "    }\n",
       "\n",
       "    .dataframe tbody tr th {\n",
       "        vertical-align: top;\n",
       "    }\n",
       "\n",
       "    .dataframe thead th {\n",
       "        text-align: right;\n",
       "    }\n",
       "</style>\n",
       "<table border=\"1\" class=\"dataframe\">\n",
       "  <thead>\n",
       "    <tr style=\"text-align: right;\">\n",
       "      <th></th>\n",
       "      <th>canton</th>\n",
       "      <th>longitud_km</th>\n",
       "    </tr>\n",
       "  </thead>\n",
       "  <tbody>\n",
       "    <tr>\n",
       "      <th>0</th>\n",
       "      <td>Bagaces</td>\n",
       "      <td>847.540684</td>\n",
       "    </tr>\n",
       "    <tr>\n",
       "      <th>1</th>\n",
       "      <td>Buenos Aires</td>\n",
       "      <td>1297.085971</td>\n",
       "    </tr>\n",
       "    <tr>\n",
       "      <th>2</th>\n",
       "      <td>Coto Brus</td>\n",
       "      <td>747.452550</td>\n",
       "    </tr>\n",
       "    <tr>\n",
       "      <th>3</th>\n",
       "      <td>La Cruz</td>\n",
       "      <td>714.135936</td>\n",
       "    </tr>\n",
       "    <tr>\n",
       "      <th>4</th>\n",
       "      <td>Liberia</td>\n",
       "      <td>1070.443077</td>\n",
       "    </tr>\n",
       "    <tr>\n",
       "      <th>5</th>\n",
       "      <td>Los Chiles</td>\n",
       "      <td>776.986909</td>\n",
       "    </tr>\n",
       "    <tr>\n",
       "      <th>6</th>\n",
       "      <td>Nicoya</td>\n",
       "      <td>982.178341</td>\n",
       "    </tr>\n",
       "    <tr>\n",
       "      <th>7</th>\n",
       "      <td>Pococí</td>\n",
       "      <td>1058.021550</td>\n",
       "    </tr>\n",
       "    <tr>\n",
       "      <th>8</th>\n",
       "      <td>Puntarenas</td>\n",
       "      <td>1368.162825</td>\n",
       "    </tr>\n",
       "    <tr>\n",
       "      <th>9</th>\n",
       "      <td>Pérez Zeledón</td>\n",
       "      <td>1429.560638</td>\n",
       "    </tr>\n",
       "    <tr>\n",
       "      <th>10</th>\n",
       "      <td>San Carlos</td>\n",
       "      <td>2591.060114</td>\n",
       "    </tr>\n",
       "    <tr>\n",
       "      <th>11</th>\n",
       "      <td>Santa Cruz</td>\n",
       "      <td>965.178610</td>\n",
       "    </tr>\n",
       "    <tr>\n",
       "      <th>12</th>\n",
       "      <td>Sarapiquí</td>\n",
       "      <td>1103.353835</td>\n",
       "    </tr>\n",
       "    <tr>\n",
       "      <th>13</th>\n",
       "      <td>Turrialba</td>\n",
       "      <td>688.084095</td>\n",
       "    </tr>\n",
       "    <tr>\n",
       "      <th>14</th>\n",
       "      <td>Upala</td>\n",
       "      <td>770.127924</td>\n",
       "    </tr>\n",
       "    <tr>\n",
       "      <th>0</th>\n",
       "      <td>Otros cantones</td>\n",
       "      <td>15605.360957</td>\n",
       "    </tr>\n",
       "  </tbody>\n",
       "</table>\n",
       "</div>"
      ],
      "text/plain": [
       "            canton   longitud_km\n",
       "0          Bagaces    847.540684\n",
       "1     Buenos Aires   1297.085971\n",
       "2        Coto Brus    747.452550\n",
       "3          La Cruz    714.135936\n",
       "4          Liberia   1070.443077\n",
       "5       Los Chiles    776.986909\n",
       "6           Nicoya    982.178341\n",
       "7           Pococí   1058.021550\n",
       "8       Puntarenas   1368.162825\n",
       "9    Pérez Zeledón   1429.560638\n",
       "10      San Carlos   2591.060114\n",
       "11      Santa Cruz    965.178610\n",
       "12       Sarapiquí   1103.353835\n",
       "13       Turrialba    688.084095\n",
       "14           Upala    770.127924\n",
       "0   Otros cantones  15605.360957"
      ]
     },
     "execution_count": 41,
     "metadata": {},
     "output_type": "execute_result"
    }
   ],
   "source": [
    "top_15_pastel = pd.concat([top_15_pastel, pd.DataFrame({'canton': ['Otros cantones'], 'longitud_km': [long]})])\n",
    "top_15_pastel"
   ]
  },
  {
   "cell_type": "code",
   "execution_count": 49,
   "id": "403c898e-3e30-4bdd-a764-1716285bdef3",
   "metadata": {},
   "outputs": [
    {
     "data": {
      "application/vnd.plotly.v1+json": {
       "config": {
        "plotlyServerURL": "https://plot.ly"
       },
       "data": [
        {
         "domain": {
          "x": [
           0,
           1
          ],
          "y": [
           0,
           1
          ]
         },
         "hovertemplate": "canton=%{label}<br>longitud_km=%{value}<extra></extra>",
         "labels": [
          "Bagaces",
          "Buenos Aires",
          "Coto Brus",
          "La Cruz",
          "Liberia",
          "Los Chiles",
          "Nicoya",
          "Pococí",
          "Puntarenas",
          "Pérez Zeledón",
          "San Carlos",
          "Santa Cruz",
          "Sarapiquí",
          "Turrialba",
          "Upala",
          "Otros cantones"
         ],
         "legendgroup": "",
         "name": "",
         "showlegend": true,
         "type": "pie",
         "values": [
          847.5406836321908,
          1297.0859714795538,
          747.452550286922,
          714.1359358216931,
          1070.4430773349115,
          776.9869094315872,
          982.1783412644314,
          1058.0215504198945,
          1368.1628252346816,
          1429.560637863033,
          2591.0601143696585,
          965.178610487663,
          1103.3538353432052,
          688.0840951906157,
          770.1279239846175,
          15605.360957067956
         ]
        }
       ],
       "layout": {
        "height": 700,
        "legend": {
         "tracegroupgap": 0
        },
        "template": {
         "data": {
          "bar": [
           {
            "error_x": {
             "color": "#2a3f5f"
            },
            "error_y": {
             "color": "#2a3f5f"
            },
            "marker": {
             "line": {
              "color": "#E5ECF6",
              "width": 0.5
             },
             "pattern": {
              "fillmode": "overlay",
              "size": 10,
              "solidity": 0.2
             }
            },
            "type": "bar"
           }
          ],
          "barpolar": [
           {
            "marker": {
             "line": {
              "color": "#E5ECF6",
              "width": 0.5
             },
             "pattern": {
              "fillmode": "overlay",
              "size": 10,
              "solidity": 0.2
             }
            },
            "type": "barpolar"
           }
          ],
          "carpet": [
           {
            "aaxis": {
             "endlinecolor": "#2a3f5f",
             "gridcolor": "white",
             "linecolor": "white",
             "minorgridcolor": "white",
             "startlinecolor": "#2a3f5f"
            },
            "baxis": {
             "endlinecolor": "#2a3f5f",
             "gridcolor": "white",
             "linecolor": "white",
             "minorgridcolor": "white",
             "startlinecolor": "#2a3f5f"
            },
            "type": "carpet"
           }
          ],
          "choropleth": [
           {
            "colorbar": {
             "outlinewidth": 0,
             "ticks": ""
            },
            "type": "choropleth"
           }
          ],
          "contour": [
           {
            "colorbar": {
             "outlinewidth": 0,
             "ticks": ""
            },
            "colorscale": [
             [
              0,
              "#0d0887"
             ],
             [
              0.1111111111111111,
              "#46039f"
             ],
             [
              0.2222222222222222,
              "#7201a8"
             ],
             [
              0.3333333333333333,
              "#9c179e"
             ],
             [
              0.4444444444444444,
              "#bd3786"
             ],
             [
              0.5555555555555556,
              "#d8576b"
             ],
             [
              0.6666666666666666,
              "#ed7953"
             ],
             [
              0.7777777777777778,
              "#fb9f3a"
             ],
             [
              0.8888888888888888,
              "#fdca26"
             ],
             [
              1,
              "#f0f921"
             ]
            ],
            "type": "contour"
           }
          ],
          "contourcarpet": [
           {
            "colorbar": {
             "outlinewidth": 0,
             "ticks": ""
            },
            "type": "contourcarpet"
           }
          ],
          "heatmap": [
           {
            "colorbar": {
             "outlinewidth": 0,
             "ticks": ""
            },
            "colorscale": [
             [
              0,
              "#0d0887"
             ],
             [
              0.1111111111111111,
              "#46039f"
             ],
             [
              0.2222222222222222,
              "#7201a8"
             ],
             [
              0.3333333333333333,
              "#9c179e"
             ],
             [
              0.4444444444444444,
              "#bd3786"
             ],
             [
              0.5555555555555556,
              "#d8576b"
             ],
             [
              0.6666666666666666,
              "#ed7953"
             ],
             [
              0.7777777777777778,
              "#fb9f3a"
             ],
             [
              0.8888888888888888,
              "#fdca26"
             ],
             [
              1,
              "#f0f921"
             ]
            ],
            "type": "heatmap"
           }
          ],
          "heatmapgl": [
           {
            "colorbar": {
             "outlinewidth": 0,
             "ticks": ""
            },
            "colorscale": [
             [
              0,
              "#0d0887"
             ],
             [
              0.1111111111111111,
              "#46039f"
             ],
             [
              0.2222222222222222,
              "#7201a8"
             ],
             [
              0.3333333333333333,
              "#9c179e"
             ],
             [
              0.4444444444444444,
              "#bd3786"
             ],
             [
              0.5555555555555556,
              "#d8576b"
             ],
             [
              0.6666666666666666,
              "#ed7953"
             ],
             [
              0.7777777777777778,
              "#fb9f3a"
             ],
             [
              0.8888888888888888,
              "#fdca26"
             ],
             [
              1,
              "#f0f921"
             ]
            ],
            "type": "heatmapgl"
           }
          ],
          "histogram": [
           {
            "marker": {
             "pattern": {
              "fillmode": "overlay",
              "size": 10,
              "solidity": 0.2
             }
            },
            "type": "histogram"
           }
          ],
          "histogram2d": [
           {
            "colorbar": {
             "outlinewidth": 0,
             "ticks": ""
            },
            "colorscale": [
             [
              0,
              "#0d0887"
             ],
             [
              0.1111111111111111,
              "#46039f"
             ],
             [
              0.2222222222222222,
              "#7201a8"
             ],
             [
              0.3333333333333333,
              "#9c179e"
             ],
             [
              0.4444444444444444,
              "#bd3786"
             ],
             [
              0.5555555555555556,
              "#d8576b"
             ],
             [
              0.6666666666666666,
              "#ed7953"
             ],
             [
              0.7777777777777778,
              "#fb9f3a"
             ],
             [
              0.8888888888888888,
              "#fdca26"
             ],
             [
              1,
              "#f0f921"
             ]
            ],
            "type": "histogram2d"
           }
          ],
          "histogram2dcontour": [
           {
            "colorbar": {
             "outlinewidth": 0,
             "ticks": ""
            },
            "colorscale": [
             [
              0,
              "#0d0887"
             ],
             [
              0.1111111111111111,
              "#46039f"
             ],
             [
              0.2222222222222222,
              "#7201a8"
             ],
             [
              0.3333333333333333,
              "#9c179e"
             ],
             [
              0.4444444444444444,
              "#bd3786"
             ],
             [
              0.5555555555555556,
              "#d8576b"
             ],
             [
              0.6666666666666666,
              "#ed7953"
             ],
             [
              0.7777777777777778,
              "#fb9f3a"
             ],
             [
              0.8888888888888888,
              "#fdca26"
             ],
             [
              1,
              "#f0f921"
             ]
            ],
            "type": "histogram2dcontour"
           }
          ],
          "mesh3d": [
           {
            "colorbar": {
             "outlinewidth": 0,
             "ticks": ""
            },
            "type": "mesh3d"
           }
          ],
          "parcoords": [
           {
            "line": {
             "colorbar": {
              "outlinewidth": 0,
              "ticks": ""
             }
            },
            "type": "parcoords"
           }
          ],
          "pie": [
           {
            "automargin": true,
            "type": "pie"
           }
          ],
          "scatter": [
           {
            "marker": {
             "colorbar": {
              "outlinewidth": 0,
              "ticks": ""
             }
            },
            "type": "scatter"
           }
          ],
          "scatter3d": [
           {
            "line": {
             "colorbar": {
              "outlinewidth": 0,
              "ticks": ""
             }
            },
            "marker": {
             "colorbar": {
              "outlinewidth": 0,
              "ticks": ""
             }
            },
            "type": "scatter3d"
           }
          ],
          "scattercarpet": [
           {
            "marker": {
             "colorbar": {
              "outlinewidth": 0,
              "ticks": ""
             }
            },
            "type": "scattercarpet"
           }
          ],
          "scattergeo": [
           {
            "marker": {
             "colorbar": {
              "outlinewidth": 0,
              "ticks": ""
             }
            },
            "type": "scattergeo"
           }
          ],
          "scattergl": [
           {
            "marker": {
             "colorbar": {
              "outlinewidth": 0,
              "ticks": ""
             }
            },
            "type": "scattergl"
           }
          ],
          "scattermapbox": [
           {
            "marker": {
             "colorbar": {
              "outlinewidth": 0,
              "ticks": ""
             }
            },
            "type": "scattermapbox"
           }
          ],
          "scatterpolar": [
           {
            "marker": {
             "colorbar": {
              "outlinewidth": 0,
              "ticks": ""
             }
            },
            "type": "scatterpolar"
           }
          ],
          "scatterpolargl": [
           {
            "marker": {
             "colorbar": {
              "outlinewidth": 0,
              "ticks": ""
             }
            },
            "type": "scatterpolargl"
           }
          ],
          "scatterternary": [
           {
            "marker": {
             "colorbar": {
              "outlinewidth": 0,
              "ticks": ""
             }
            },
            "type": "scatterternary"
           }
          ],
          "surface": [
           {
            "colorbar": {
             "outlinewidth": 0,
             "ticks": ""
            },
            "colorscale": [
             [
              0,
              "#0d0887"
             ],
             [
              0.1111111111111111,
              "#46039f"
             ],
             [
              0.2222222222222222,
              "#7201a8"
             ],
             [
              0.3333333333333333,
              "#9c179e"
             ],
             [
              0.4444444444444444,
              "#bd3786"
             ],
             [
              0.5555555555555556,
              "#d8576b"
             ],
             [
              0.6666666666666666,
              "#ed7953"
             ],
             [
              0.7777777777777778,
              "#fb9f3a"
             ],
             [
              0.8888888888888888,
              "#fdca26"
             ],
             [
              1,
              "#f0f921"
             ]
            ],
            "type": "surface"
           }
          ],
          "table": [
           {
            "cells": {
             "fill": {
              "color": "#EBF0F8"
             },
             "line": {
              "color": "white"
             }
            },
            "header": {
             "fill": {
              "color": "#C8D4E3"
             },
             "line": {
              "color": "white"
             }
            },
            "type": "table"
           }
          ]
         },
         "layout": {
          "annotationdefaults": {
           "arrowcolor": "#2a3f5f",
           "arrowhead": 0,
           "arrowwidth": 1
          },
          "autotypenumbers": "strict",
          "coloraxis": {
           "colorbar": {
            "outlinewidth": 0,
            "ticks": ""
           }
          },
          "colorscale": {
           "diverging": [
            [
             0,
             "#8e0152"
            ],
            [
             0.1,
             "#c51b7d"
            ],
            [
             0.2,
             "#de77ae"
            ],
            [
             0.3,
             "#f1b6da"
            ],
            [
             0.4,
             "#fde0ef"
            ],
            [
             0.5,
             "#f7f7f7"
            ],
            [
             0.6,
             "#e6f5d0"
            ],
            [
             0.7,
             "#b8e186"
            ],
            [
             0.8,
             "#7fbc41"
            ],
            [
             0.9,
             "#4d9221"
            ],
            [
             1,
             "#276419"
            ]
           ],
           "sequential": [
            [
             0,
             "#0d0887"
            ],
            [
             0.1111111111111111,
             "#46039f"
            ],
            [
             0.2222222222222222,
             "#7201a8"
            ],
            [
             0.3333333333333333,
             "#9c179e"
            ],
            [
             0.4444444444444444,
             "#bd3786"
            ],
            [
             0.5555555555555556,
             "#d8576b"
            ],
            [
             0.6666666666666666,
             "#ed7953"
            ],
            [
             0.7777777777777778,
             "#fb9f3a"
            ],
            [
             0.8888888888888888,
             "#fdca26"
            ],
            [
             1,
             "#f0f921"
            ]
           ],
           "sequentialminus": [
            [
             0,
             "#0d0887"
            ],
            [
             0.1111111111111111,
             "#46039f"
            ],
            [
             0.2222222222222222,
             "#7201a8"
            ],
            [
             0.3333333333333333,
             "#9c179e"
            ],
            [
             0.4444444444444444,
             "#bd3786"
            ],
            [
             0.5555555555555556,
             "#d8576b"
            ],
            [
             0.6666666666666666,
             "#ed7953"
            ],
            [
             0.7777777777777778,
             "#fb9f3a"
            ],
            [
             0.8888888888888888,
             "#fdca26"
            ],
            [
             1,
             "#f0f921"
            ]
           ]
          },
          "colorway": [
           "#636efa",
           "#EF553B",
           "#00cc96",
           "#ab63fa",
           "#FFA15A",
           "#19d3f3",
           "#FF6692",
           "#B6E880",
           "#FF97FF",
           "#FECB52"
          ],
          "font": {
           "color": "#2a3f5f"
          },
          "geo": {
           "bgcolor": "white",
           "lakecolor": "white",
           "landcolor": "#E5ECF6",
           "showlakes": true,
           "showland": true,
           "subunitcolor": "white"
          },
          "hoverlabel": {
           "align": "left"
          },
          "hovermode": "closest",
          "mapbox": {
           "style": "light"
          },
          "paper_bgcolor": "white",
          "plot_bgcolor": "#E5ECF6",
          "polar": {
           "angularaxis": {
            "gridcolor": "white",
            "linecolor": "white",
            "ticks": ""
           },
           "bgcolor": "#E5ECF6",
           "radialaxis": {
            "gridcolor": "white",
            "linecolor": "white",
            "ticks": ""
           }
          },
          "scene": {
           "xaxis": {
            "backgroundcolor": "#E5ECF6",
            "gridcolor": "white",
            "gridwidth": 2,
            "linecolor": "white",
            "showbackground": true,
            "ticks": "",
            "zerolinecolor": "white"
           },
           "yaxis": {
            "backgroundcolor": "#E5ECF6",
            "gridcolor": "white",
            "gridwidth": 2,
            "linecolor": "white",
            "showbackground": true,
            "ticks": "",
            "zerolinecolor": "white"
           },
           "zaxis": {
            "backgroundcolor": "#E5ECF6",
            "gridcolor": "white",
            "gridwidth": 2,
            "linecolor": "white",
            "showbackground": true,
            "ticks": "",
            "zerolinecolor": "white"
           }
          },
          "shapedefaults": {
           "line": {
            "color": "#2a3f5f"
           }
          },
          "ternary": {
           "aaxis": {
            "gridcolor": "white",
            "linecolor": "white",
            "ticks": ""
           },
           "baxis": {
            "gridcolor": "white",
            "linecolor": "white",
            "ticks": ""
           },
           "bgcolor": "#E5ECF6",
           "caxis": {
            "gridcolor": "white",
            "linecolor": "white",
            "ticks": ""
           }
          },
          "title": {
           "x": 0.05
          },
          "xaxis": {
           "automargin": true,
           "gridcolor": "white",
           "linecolor": "white",
           "ticks": "",
           "title": {
            "standoff": 15
           },
           "zerolinecolor": "white",
           "zerolinewidth": 2
          },
          "yaxis": {
           "automargin": true,
           "gridcolor": "white",
           "linecolor": "white",
           "ticks": "",
           "title": {
            "standoff": 15
           },
           "zerolinecolor": "white",
           "zerolinewidth": 2
          }
         }
        },
        "title": {
         "text": "Cantones con mayor longitud vial"
        },
        "width": 700
       }
      },
      "image/png": "[encoded data removed]",
      "text/html": [
       "<div>                            <div id=\"065a0389-41a1-428a-aa0e-93989e414a0e\" class=\"plotly-graph-div\" style=\"height:700px; width:700px;\"></div>            <script type=\"text/javascript\">                require([\"plotly\"], function(Plotly) {                    window.PLOTLYENV=window.PLOTLYENV || {};                                    if (document.getElementById(\"065a0389-41a1-428a-aa0e-93989e414a0e\")) {                    Plotly.newPlot(                        \"065a0389-41a1-428a-aa0e-93989e414a0e\",                        [{\"domain\":{\"x\":[0.0,1.0],\"y\":[0.0,1.0]},\"hovertemplate\":\"canton=%{label}<br>longitud_km=%{value}<extra></extra>\",\"labels\":[\"Bagaces\",\"Buenos Aires\",\"Coto Brus\",\"La Cruz\",\"Liberia\",\"Los Chiles\",\"Nicoya\",\"Pococ\\u00ed\",\"Puntarenas\",\"P\\u00e9rez Zeled\\u00f3n\",\"San Carlos\",\"Santa Cruz\",\"Sarapiqu\\u00ed\",\"Turrialba\",\"Upala\",\"Otros cantones\"],\"legendgroup\":\"\",\"name\":\"\",\"showlegend\":true,\"type\":\"pie\",\"values\":[847.5406836321908,1297.0859714795538,747.452550286922,714.1359358216931,1070.4430773349115,776.9869094315872,982.1783412644314,1058.0215504198945,1368.1628252346816,1429.560637863033,2591.0601143696585,965.178610487663,1103.3538353432052,688.0840951906157,770.1279239846175,15605.360957067956]}],                        {\"height\":700,\"legend\":{\"tracegroupgap\":0},\"template\":{\"data\":{\"bar\":[{\"error_x\":{\"color\":\"#2a3f5f\"},\"error_y\":{\"color\":\"#2a3f5f\"},\"marker\":{\"line\":{\"color\":\"#E5ECF6\",\"width\":0.5},\"pattern\":{\"fillmode\":\"overlay\",\"size\":10,\"solidity\":0.2}},\"type\":\"bar\"}],\"barpolar\":[{\"marker\":{\"line\":{\"color\":\"#E5ECF6\",\"width\":0.5},\"pattern\":{\"fillmode\":\"overlay\",\"size\":10,\"solidity\":0.2}},\"type\":\"barpolar\"}],\"carpet\":[{\"aaxis\":{\"endlinecolor\":\"#2a3f5f\",\"gridcolor\":\"white\",\"linecolor\":\"white\",\"minorgridcolor\":\"white\",\"startlinecolor\":\"#2a3f5f\"},\"baxis\":{\"endlinecolor\":\"#2a3f5f\",\"gridcolor\":\"white\",\"linecolor\":\"white\",\"minorgridcolor\":\"white\",\"startlinecolor\":\"#2a3f5f\"},\"type\":\"carpet\"}],\"choropleth\":[{\"colorbar\":{\"outlinewidth\":0,\"ticks\":\"\"},\"type\":\"choropleth\"}],\"contour\":[{\"colorbar\":{\"outlinewidth\":0,\"ticks\":\"\"},\"colorscale\":[[0.0,\"#0d0887\"],[0.1111111111111111,\"#46039f\"],[0.2222222222222222,\"#7201a8\"],[0.3333333333333333,\"#9c179e\"],[0.4444444444444444,\"#bd3786\"],[0.5555555555555556,\"#d8576b\"],[0.6666666666666666,\"#ed7953\"],[0.7777777777777778,\"#fb9f3a\"],[0.8888888888888888,\"#fdca26\"],[1.0,\"#f0f921\"]],\"type\":\"contour\"}],\"contourcarpet\":[{\"colorbar\":{\"outlinewidth\":0,\"ticks\":\"\"},\"type\":\"contourcarpet\"}],\"heatmap\":[{\"colorbar\":{\"outlinewidth\":0,\"ticks\":\"\"},\"colorscale\":[[0.0,\"#0d0887\"],[0.1111111111111111,\"#46039f\"],[0.2222222222222222,\"#7201a8\"],[0.3333333333333333,\"#9c179e\"],[0.4444444444444444,\"#bd3786\"],[0.5555555555555556,\"#d8576b\"],[0.6666666666666666,\"#ed7953\"],[0.7777777777777778,\"#fb9f3a\"],[0.8888888888888888,\"#fdca26\"],[1.0,\"#f0f921\"]],\"type\":\"heatmap\"}],\"heatmapgl\":[{\"colorbar\":{\"outlinewidth\":0,\"ticks\":\"\"},\"colorscale\":[[0.0,\"#0d0887\"],[0.1111111111111111,\"#46039f\"],[0.2222222222222222,\"#7201a8\"],[0.3333333333333333,\"#9c179e\"],[0.4444444444444444,\"#bd3786\"],[0.5555555555555556,\"#d8576b\"],[0.6666666666666666,\"#ed7953\"],[0.7777777777777778,\"#fb9f3a\"],[0.8888888888888888,\"#fdca26\"],[1.0,\"#f0f921\"]],\"type\":\"heatmapgl\"}],\"histogram\":[{\"marker\":{\"pattern\":{\"fillmode\":\"overlay\",\"size\":10,\"solidity\":0.2}},\"type\":\"histogram\"}],\"histogram2d\":[{\"colorbar\":{\"outlinewidth\":0,\"ticks\":\"\"},\"colorscale\":[[0.0,\"#0d0887\"],[0.1111111111111111,\"#46039f\"],[0.2222222222222222,\"#7201a8\"],[0.3333333333333333,\"#9c179e\"],[0.4444444444444444,\"#bd3786\"],[0.5555555555555556,\"#d8576b\"],[0.6666666666666666,\"#ed7953\"],[0.7777777777777778,\"#fb9f3a\"],[0.8888888888888888,\"#fdca26\"],[1.0,\"#f0f921\"]],\"type\":\"histogram2d\"}],\"histogram2dcontour\":[{\"colorbar\":{\"outlinewidth\":0,\"ticks\":\"\"},\"colorscale\":[[0.0,\"#0d0887\"],[0.1111111111111111,\"#46039f\"],[0.2222222222222222,\"#7201a8\"],[0.3333333333333333,\"#9c179e\"],[0.4444444444444444,\"#bd3786\"],[0.5555555555555556,\"#d8576b\"],[0.6666666666666666,\"#ed7953\"],[0.7777777777777778,\"#fb9f3a\"],[0.8888888888888888,\"#fdca26\"],[1.0,\"#f0f921\"]],\"type\":\"histogram2dcontour\"}],\"mesh3d\":[{\"colorbar\":{\"outlinewidth\":0,\"ticks\":\"\"},\"type\":\"mesh3d\"}],\"parcoords\":[{\"line\":{\"colorbar\":{\"outlinewidth\":0,\"ticks\":\"\"}},\"type\":\"parcoords\"}],\"pie\":[{\"automargin\":true,\"type\":\"pie\"}],\"scatter\":[{\"marker\":{\"colorbar\":{\"outlinewidth\":0,\"ticks\":\"\"}},\"type\":\"scatter\"}],\"scatter3d\":[{\"line\":{\"colorbar\":{\"outlinewidth\":0,\"ticks\":\"\"}},\"marker\":{\"colorbar\":{\"outlinewidth\":0,\"ticks\":\"\"}},\"type\":\"scatter3d\"}],\"scattercarpet\":[{\"marker\":{\"colorbar\":{\"outlinewidth\":0,\"ticks\":\"\"}},\"type\":\"scattercarpet\"}],\"scattergeo\":[{\"marker\":{\"colorbar\":{\"outlinewidth\":0,\"ticks\":\"\"}},\"type\":\"scattergeo\"}],\"scattergl\":[{\"marker\":{\"colorbar\":{\"outlinewidth\":0,\"ticks\":\"\"}},\"type\":\"scattergl\"}],\"scattermapbox\":[{\"marker\":{\"colorbar\":{\"outlinewidth\":0,\"ticks\":\"\"}},\"type\":\"scattermapbox\"}],\"scatterpolar\":[{\"marker\":{\"colorbar\":{\"outlinewidth\":0,\"ticks\":\"\"}},\"type\":\"scatterpolar\"}],\"scatterpolargl\":[{\"marker\":{\"colorbar\":{\"outlinewidth\":0,\"ticks\":\"\"}},\"type\":\"scatterpolargl\"}],\"scatterternary\":[{\"marker\":{\"colorbar\":{\"outlinewidth\":0,\"ticks\":\"\"}},\"type\":\"scatterternary\"}],\"surface\":[{\"colorbar\":{\"outlinewidth\":0,\"ticks\":\"\"},\"colorscale\":[[0.0,\"#0d0887\"],[0.1111111111111111,\"#46039f\"],[0.2222222222222222,\"#7201a8\"],[0.3333333333333333,\"#9c179e\"],[0.4444444444444444,\"#bd3786\"],[0.5555555555555556,\"#d8576b\"],[0.6666666666666666,\"#ed7953\"],[0.7777777777777778,\"#fb9f3a\"],[0.8888888888888888,\"#fdca26\"],[1.0,\"#f0f921\"]],\"type\":\"surface\"}],\"table\":[{\"cells\":{\"fill\":{\"color\":\"#EBF0F8\"},\"line\":{\"color\":\"white\"}},\"header\":{\"fill\":{\"color\":\"#C8D4E3\"},\"line\":{\"color\":\"white\"}},\"type\":\"table\"}]},\"layout\":{\"annotationdefaults\":{\"arrowcolor\":\"#2a3f5f\",\"arrowhead\":0,\"arrowwidth\":1},\"autotypenumbers\":\"strict\",\"coloraxis\":{\"colorbar\":{\"outlinewidth\":0,\"ticks\":\"\"}},\"colorscale\":{\"diverging\":[[0,\"#8e0152\"],[0.1,\"#c51b7d\"],[0.2,\"#de77ae\"],[0.3,\"#f1b6da\"],[0.4,\"#fde0ef\"],[0.5,\"#f7f7f7\"],[0.6,\"#e6f5d0\"],[0.7,\"#b8e186\"],[0.8,\"#7fbc41\"],[0.9,\"#4d9221\"],[1,\"#276419\"]],\"sequential\":[[0.0,\"#0d0887\"],[0.1111111111111111,\"#46039f\"],[0.2222222222222222,\"#7201a8\"],[0.3333333333333333,\"#9c179e\"],[0.4444444444444444,\"#bd3786\"],[0.5555555555555556,\"#d8576b\"],[0.6666666666666666,\"#ed7953\"],[0.7777777777777778,\"#fb9f3a\"],[0.8888888888888888,\"#fdca26\"],[1.0,\"#f0f921\"]],\"sequentialminus\":[[0.0,\"#0d0887\"],[0.1111111111111111,\"#46039f\"],[0.2222222222222222,\"#7201a8\"],[0.3333333333333333,\"#9c179e\"],[0.4444444444444444,\"#bd3786\"],[0.5555555555555556,\"#d8576b\"],[0.6666666666666666,\"#ed7953\"],[0.7777777777777778,\"#fb9f3a\"],[0.8888888888888888,\"#fdca26\"],[1.0,\"#f0f921\"]]},\"colorway\":[\"#636efa\",\"#EF553B\",\"#00cc96\",\"#ab63fa\",\"#FFA15A\",\"#19d3f3\",\"#FF6692\",\"#B6E880\",\"#FF97FF\",\"#FECB52\"],\"font\":{\"color\":\"#2a3f5f\"},\"geo\":{\"bgcolor\":\"white\",\"lakecolor\":\"white\",\"landcolor\":\"#E5ECF6\",\"showlakes\":true,\"showland\":true,\"subunitcolor\":\"white\"},\"hoverlabel\":{\"align\":\"left\"},\"hovermode\":\"closest\",\"mapbox\":{\"style\":\"light\"},\"paper_bgcolor\":\"white\",\"plot_bgcolor\":\"#E5ECF6\",\"polar\":{\"angularaxis\":{\"gridcolor\":\"white\",\"linecolor\":\"white\",\"ticks\":\"\"},\"bgcolor\":\"#E5ECF6\",\"radialaxis\":{\"gridcolor\":\"white\",\"linecolor\":\"white\",\"ticks\":\"\"}},\"scene\":{\"xaxis\":{\"backgroundcolor\":\"#E5ECF6\",\"gridcolor\":\"white\",\"gridwidth\":2,\"linecolor\":\"white\",\"showbackground\":true,\"ticks\":\"\",\"zerolinecolor\":\"white\"},\"yaxis\":{\"backgroundcolor\":\"#E5ECF6\",\"gridcolor\":\"white\",\"gridwidth\":2,\"linecolor\":\"white\",\"showbackground\":true,\"ticks\":\"\",\"zerolinecolor\":\"white\"},\"zaxis\":{\"backgroundcolor\":\"#E5ECF6\",\"gridcolor\":\"white\",\"gridwidth\":2,\"linecolor\":\"white\",\"showbackground\":true,\"ticks\":\"\",\"zerolinecolor\":\"white\"}},\"shapedefaults\":{\"line\":{\"color\":\"#2a3f5f\"}},\"ternary\":{\"aaxis\":{\"gridcolor\":\"white\",\"linecolor\":\"white\",\"ticks\":\"\"},\"baxis\":{\"gridcolor\":\"white\",\"linecolor\":\"white\",\"ticks\":\"\"},\"bgcolor\":\"#E5ECF6\",\"caxis\":{\"gridcolor\":\"white\",\"linecolor\":\"white\",\"ticks\":\"\"}},\"title\":{\"x\":0.05},\"xaxis\":{\"automargin\":true,\"gridcolor\":\"white\",\"linecolor\":\"white\",\"ticks\":\"\",\"title\":{\"standoff\":15},\"zerolinecolor\":\"white\",\"zerolinewidth\":2},\"yaxis\":{\"automargin\":true,\"gridcolor\":\"white\",\"linecolor\":\"white\",\"ticks\":\"\",\"title\":{\"standoff\":15},\"zerolinecolor\":\"white\",\"zerolinewidth\":2}}},\"title\":{\"text\":\"Cantones con mayor longitud vial\"},\"width\":700},                        {\"responsive\": true}                    ).then(function(){\n",
       "                            \n",
       "var gd = document.getElementById('065a0389-41a1-428a-aa0e-93989e414a0e');\n",
       "var x = new MutationObserver(function (mutations, observer) {{\n",
       "        var display = window.getComputedStyle(gd).display;\n",
       "        if (!display || display === 'none') {{\n",
       "            console.log([gd, 'removed!']);\n",
       "            Plotly.purge(gd);\n",
       "            observer.disconnect();\n",
       "        }}\n",
       "}});\n",
       "\n",
       "// Listen for the removal of the full notebook cells\n",
       "var notebookContainer = gd.closest('#notebook-container');\n",
       "if (notebookContainer) {{\n",
       "    x.observe(notebookContainer, {childList: true});\n",
       "}}\n",
       "\n",
       "// Listen for the clearing of the current output cell\n",
       "var outputEl = gd.closest('.output');\n",
       "if (outputEl) {{\n",
       "    x.observe(outputEl, {childList: true});\n",
       "}}\n",
       "\n",
       "                        })                };                });            </script>        </div>"
      ]
     },
     "metadata": {},
     "output_type": "display_data"
    }
   ],
   "source": [
    "fig = px.pie(top_15_pastel, \n",
    "             names=\"canton\", \n",
    "             values=\"longitud_km\",\n",
    "             title=\"Cantones con mayor longitud vial\",\n",
    "             width=700,\n",
    "             height=700)\n",
    "\n",
    "fig.show()"
   ]
  },
  {
   "cell_type": "markdown",
   "id": "7c74151e-bc0e-4217-bd6c-e8dc9ff4ecce",
   "metadata": {},
   "source": [
    "## Mapa folium"
   ]
  },
  {
   "cell_type": "code",
   "execution_count": null,
   "id": "24844632-130b-416c-ae51-4af429e7121b",
   "metadata": {},
   "outputs": [],
   "source": [
    "# Capa base\n",
    "m = folium.Map(location=[10, -84], zoom_start=8, control_scale=True)\n",
    "\n",
    "# Coropletas\n",
    "folium.Choropleth(\n",
    "    geo_data=data_cantones,\n",
    "    data=metricas_canton,\n",
    "    columns=['canton', 'densidad_red_vial'],\n",
    "    bins=8,\n",
    "    key_on='feature.properties.canton',\n",
    "    fill_color='Reds', \n",
    "    fill_opacity=0.7, \n",
    "    line_opacity=1,\n",
    "    legend_name='Densidad vial',\n",
    "    smooth_factor=0,\n",
    "    name='Densidad vial').add_to(m)\n",
    "\n",
    "# Red vial\n",
    "folium.GeoJson(data_red_vial, name='Red vial').add_to(m)\n",
    "\n",
    "# Control de capas\n",
    "folium.LayerControl().add_to(m)\n",
    "\n",
    "# Despliegue del mapa\n",
    "m"
   ]
  },
  {
   "cell_type": "code",
   "execution_count": null,
   "id": "3671cf33-1cde-44b7-ab33-2ae89f1808f6",
   "metadata": {},
   "outputs": [],
   "source": []
  }
 ],
 "metadata": {
  "kernelspec": {
   "display_name": "Python 3 (ipykernel)",
   "language": "python",
   "name": "python3"
  },
  "language_info": {
   "codemirror_mode": {
    "name": "ipython",
    "version": 3
   },
   "file_extension": ".py",
   "mimetype": "text/x-python",
   "name": "python",
   "nbconvert_exporter": "python",
   "pygments_lexer": "ipython3",
   "version": "3.8.8"
  }
 },
 "nbformat": 4,
 "nbformat_minor": 5
}
